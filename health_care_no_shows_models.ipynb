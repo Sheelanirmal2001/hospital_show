{
 "cells": [
  {
   "cell_type": "code",
   "execution_count": 1,
   "id": "9b35463e",
   "metadata": {},
   "outputs": [
    {
     "name": "stdout",
     "output_type": "stream",
     "text": [
      "Requirement already satisfied: pandas in c:\\users\\user\\anaconda3\\lib\\site-packages (2.2.2)Note: you may need to restart the kernel to use updated packages.\n",
      "\n",
      "Requirement already satisfied: numpy>=1.26.0 in c:\\users\\user\\anaconda3\\lib\\site-packages (from pandas) (1.26.4)\n",
      "Requirement already satisfied: python-dateutil>=2.8.2 in c:\\users\\user\\appdata\\roaming\\python\\python312\\site-packages (from pandas) (2.9.0.post0)\n",
      "Requirement already satisfied: pytz>=2020.1 in c:\\users\\user\\anaconda3\\lib\\site-packages (from pandas) (2024.1)\n",
      "Requirement already satisfied: tzdata>=2022.7 in c:\\users\\user\\anaconda3\\lib\\site-packages (from pandas) (2023.3)\n",
      "Requirement already satisfied: six>=1.5 in c:\\users\\user\\appdata\\roaming\\python\\python312\\site-packages (from python-dateutil>=2.8.2->pandas) (1.16.0)\n"
     ]
    }
   ],
   "source": [
    "%pip install pandas"
   ]
  },
  {
   "cell_type": "code",
   "execution_count": 2,
   "id": "c1db36d5",
   "metadata": {
    "id": "c1db36d5"
   },
   "outputs": [],
   "source": [
    "# EDA exploratory data analysis\n",
    "import pandas as pd \n",
    "import numpy as np # numerical calculation\n",
    "# visualization\n",
    "import matplotlib.pyplot as plt\n",
    "import seaborn as sns"
   ]
  },
  {
   "cell_type": "code",
   "execution_count": 3,
   "id": "591ce872",
   "metadata": {},
   "outputs": [],
   "source": [
    "\n",
    "from sklearn.preprocessing import StandardScaler\n",
    "# from sklearn.impute import SimpleImputer\n",
    "from sklearn.model_selection import train_test_split\n",
    "from sklearn.ensemble import RandomForestClassifier  # Example model\n",
    "from sklearn.neighbors import KNeighborsClassifier\n",
    "from sklearn.ensemble import GradientBoostingClassifier\n",
    "from sklearn.metrics import classification_report, accuracy_score,f1_score"
   ]
  },
  {
   "cell_type": "code",
   "execution_count": null,
   "id": "d8d5f3c4",
   "metadata": {},
   "outputs": [],
   "source": []
  },
  {
   "cell_type": "code",
   "execution_count": 4,
   "id": "cUZmtN2hd1dk",
   "metadata": {
    "colab": {
     "base_uri": "https://localhost:8080/"
    },
    "id": "cUZmtN2hd1dk",
    "outputId": "690b703a-8d49-4f69-de53-cac2725acb83"
   },
   "outputs": [
    {
     "ename": "NameError",
     "evalue": "name 'data' is not defined",
     "output_type": "error",
     "traceback": [
      "\u001b[1;31m---------------------------------------------------------------------------\u001b[0m",
      "\u001b[1;31mNameError\u001b[0m                                 Traceback (most recent call last)",
      "Cell \u001b[1;32mIn[4], line 2\u001b[0m\n\u001b[0;32m      1\u001b[0m \u001b[38;5;66;03m# Display the first few rows of the dataframe\u001b[39;00m\n\u001b[1;32m----> 2\u001b[0m \u001b[38;5;28mprint\u001b[39m(\u001b[43mdata\u001b[49m\u001b[38;5;241m.\u001b[39mhead())\n",
      "\u001b[1;31mNameError\u001b[0m: name 'data' is not defined"
     ]
    }
   ],
   "source": [
    "\n",
    "\n",
    "# Display the first few rows of the dataframe\n",
    "print(data.head())"
   ]
  },
  {
   "cell_type": "code",
   "execution_count": null,
   "id": "e7b1315c",
   "metadata": {
    "colab": {
     "base_uri": "https://localhost:8080/"
    },
    "id": "e7b1315c",
    "outputId": "806ae8a1-f9b4-4fce-8316-a656f08b5f89"
   },
   "outputs": [
    {
     "data": {
      "text/plain": [
       "Index(['PatientId', 'AppointmentID', 'Gender', 'ScheduledDay',\n",
       "       'AppointmentDay', 'Age', 'Neighbourhood', 'Scholarship', 'Hipertension',\n",
       "       'Diabetes', 'Alcoholism', 'Handcap', 'SMS_received', 'Showed_up',\n",
       "       'Date.diff'],\n",
       "      dtype='object')"
      ]
     },
     "execution_count": 77,
     "metadata": {},
     "output_type": "execute_result"
    }
   ],
   "source": [
    "data.columns"
   ]
  },
  {
   "cell_type": "code",
   "execution_count": null,
   "id": "e96d47f8",
   "metadata": {
    "colab": {
     "base_uri": "https://localhost:8080/"
    },
    "id": "e96d47f8",
    "outputId": "d7e62fc6-f649-4aaf-a782-9a9f24202947"
   },
   "outputs": [
    {
     "name": "stdout",
     "output_type": "stream",
     "text": [
      "      PatientId  AppointmentID Gender ScheduledDay AppointmentDay  Age  \\\n",
      "0  2.987250e+13        5642903      F   2016-04-29     2016-04-29   62   \n",
      "1  5.589978e+14        5642503      M   2016-04-29     2016-04-29   56   \n",
      "2  4.262962e+12        5642549      F   2016-04-29     2016-04-29   62   \n",
      "3  8.679512e+11        5642828      F   2016-04-29     2016-04-29    8   \n",
      "4  8.841186e+12        5642494      F   2016-04-29     2016-04-29   56   \n",
      "\n",
      "       Neighbourhood  Scholarship  Hipertension  Diabetes  Alcoholism  \\\n",
      "0    JARDIM DA PENHA        False          True     False       False   \n",
      "1    JARDIM DA PENHA        False         False     False       False   \n",
      "2      MATA DA PRAIA        False         False     False       False   \n",
      "3  PONTAL DE CAMBURI        False         False     False       False   \n",
      "4    JARDIM DA PENHA        False          True      True       False   \n",
      "\n",
      "   Handcap  SMS_received  Showed_up  Date.diff  \n",
      "0    False         False       True          0  \n",
      "1    False         False       True          0  \n",
      "2    False         False       True          0  \n",
      "3    False         False       True          0  \n",
      "4    False         False       True          0  \n"
     ]
    }
   ],
   "source": [
    "print(data.head())"
   ]
  },
  {
   "cell_type": "code",
   "execution_count": null,
   "id": "e0bbe332",
   "metadata": {
    "colab": {
     "base_uri": "https://localhost:8080/"
    },
    "id": "e0bbe332",
    "outputId": "20ada2fb-e708-432b-e381-9a4d03c97e84"
   },
   "outputs": [
    {
     "name": "stdout",
     "output_type": "stream",
     "text": [
      "<class 'pandas.core.frame.DataFrame'>\n",
      "RangeIndex: 106987 entries, 0 to 106986\n",
      "Data columns (total 15 columns):\n",
      " #   Column          Non-Null Count   Dtype  \n",
      "---  ------          --------------   -----  \n",
      " 0   PatientId       106987 non-null  float64\n",
      " 1   AppointmentID   106987 non-null  int64  \n",
      " 2   Gender          106987 non-null  object \n",
      " 3   ScheduledDay    106987 non-null  object \n",
      " 4   AppointmentDay  106987 non-null  object \n",
      " 5   Age             106987 non-null  int64  \n",
      " 6   Neighbourhood   106987 non-null  object \n",
      " 7   Scholarship     106987 non-null  bool   \n",
      " 8   Hipertension    106987 non-null  bool   \n",
      " 9   Diabetes        106987 non-null  bool   \n",
      " 10  Alcoholism      106987 non-null  bool   \n",
      " 11  Handcap         106987 non-null  bool   \n",
      " 12  SMS_received    106987 non-null  bool   \n",
      " 13  Showed_up       106987 non-null  bool   \n",
      " 14  Date.diff       106987 non-null  int64  \n",
      "dtypes: bool(7), float64(1), int64(3), object(4)\n",
      "memory usage: 7.2+ MB\n",
      "None\n"
     ]
    }
   ],
   "source": [
    "print(data.info())"
   ]
  },
  {
   "cell_type": "code",
   "execution_count": null,
   "id": "6HuoA1-4hoW9",
   "metadata": {
    "id": "6HuoA1-4hoW9"
   },
   "outputs": [],
   "source": [
    "\n",
    "# Step 4: Rename columns for consistency\n",
    "data.rename(columns={'Hipertension': 'Hypertension', 'Handcap': 'Handicap'}, inplace=True)_\n",
    "data"
   ]
  },
  {
   "cell_type": "code",
   "execution_count": null,
   "id": "e2fd7771",
   "metadata": {
    "colab": {
     "base_uri": "https://localhost:8080/"
    },
    "id": "e2fd7771",
    "outputId": "ce6d90ee-2a9d-43f7-ad46-52aae4e673bb"
   },
   "outputs": [
    {
     "name": "stdout",
     "output_type": "stream",
     "text": [
      "PatientId         0\n",
      "AppointmentID     0\n",
      "Gender            0\n",
      "ScheduledDay      0\n",
      "AppointmentDay    0\n",
      "Age               0\n",
      "Neighbourhood     0\n",
      "Scholarship       0\n",
      "Hypertension      0\n",
      "Diabetes          0\n",
      "Alcoholism        0\n",
      "Handicap          0\n",
      "SMS_received      0\n",
      "Showed_up         0\n",
      "Date.diff         0\n",
      "dtype: int64"
     ]
    },
    {
     "name": "stdout",
     "output_type": "stream",
     "text": [
      "\n"
     ]
    }
   ],
   "source": [
    "print(data.isnull().sum())"
   ]
  },
  {
   "cell_type": "code",
   "execution_count": null,
   "id": "eecae2b8",
   "metadata": {
    "colab": {
     "base_uri": "https://localhost:8080/"
    },
    "id": "eecae2b8",
    "outputId": "42f960b3-b071-4f64-a330-8c4aa746be94"
   },
   "outputs": [
    {
     "name": "stdout",
     "output_type": "stream",
     "text": [
      "          PatientId  AppointmentID            Age      Date.diff\n",
      "count  1.069870e+05   1.069870e+05  106987.000000  106987.000000\n",
      "mean   1.472814e+14   5.675434e+06      38.316085      10.166721\n",
      "std    2.558267e+14   7.133274e+04      22.466214      15.263508\n",
      "min    3.921784e+04   5.030230e+06       1.000000      -6.000000\n",
      "25%    4.173523e+12   5.640490e+06      19.000000       0.000000\n",
      "50%    3.172463e+13   5.680744e+06      38.000000       4.000000\n",
      "75%    9.433600e+13   5.725634e+06      56.000000      14.000000\n",
      "max    9.999816e+14   5.790484e+06     115.000000     179.000000\n"
     ]
    }
   ],
   "source": [
    "print(data.describe())"
   ]
  },
  {
   "cell_type": "code",
   "execution_count": null,
   "id": "46663dd2",
   "metadata": {
    "id": "46663dd2"
   },
   "outputs": [],
   "source": [
    "# 1. Identify numerical and categorical columns\n",
    "num_cols = data.select_dtypes(include=['float64', 'int64']).columns\n",
    "cat_cols = data.select_dtypes(include=['object']).columns\n"
   ]
  },
  {
   "cell_type": "code",
   "execution_count": null,
   "id": "ar6_8y-JfL6f",
   "metadata": {
    "id": "ar6_8y-JfL6f"
   },
   "outputs": [],
   "source": [
    "\n",
    "data['ScheduledDay'] = pd.to_datetime(data['ScheduledDay'])\n",
    "data['AppointmentDay'] = pd.to_datetime(data['AppointmentDay'])"
   ]
  },
  {
   "cell_type": "code",
   "execution_count": null,
   "id": "0ead0878",
   "metadata": {
    "colab": {
     "base_uri": "https://localhost:8080/"
    },
    "id": "0ead0878",
    "outputId": "6053f7c9-b739-421e-c4d5-e8752ba16b8a"
   },
   "outputs": [
    {
     "name": "stdout",
     "output_type": "stream",
     "text": [
      "Index(['Gender', 'ScheduledDay', 'AppointmentDay', 'Neighbourhood'], dtype='object')\n"
     ]
    }
   ],
   "source": [
    "print(cat_cols)"
   ]
  },
  {
   "cell_type": "code",
   "execution_count": null,
   "id": "29e404cb",
   "metadata": {
    "colab": {
     "base_uri": "https://localhost:8080/"
    },
    "id": "29e404cb",
    "outputId": "2eb5b89d-bcbd-4e03-be0c-a034f0584e39"
   },
   "outputs": [
    {
     "name": "stdout",
     "output_type": "stream",
     "text": [
      "<class 'pandas.core.frame.DataFrame'>\n",
      "RangeIndex: 106987 entries, 0 to 106986\n",
      "Data columns (total 15 columns):\n",
      " #   Column          Non-Null Count   Dtype         \n",
      "---  ------          --------------   -----         \n",
      " 0   PatientId       106987 non-null  float64       \n",
      " 1   AppointmentID   106987 non-null  int64         \n",
      " 2   Gender          106987 non-null  object        \n",
      " 3   ScheduledDay    106987 non-null  datetime64[ns]\n",
      " 4   AppointmentDay  106987 non-null  datetime64[ns]\n",
      " 5   Age             106987 non-null  int64         \n",
      " 6   Neighbourhood   106987 non-null  object        \n",
      " 7   Scholarship     106987 non-null  bool          \n",
      " 8   Hypertension    106987 non-null  bool          \n",
      " 9   Diabetes        106987 non-null  bool          \n",
      " 10  Alcoholism      106987 non-null  bool          \n",
      " 11  Handicap        106987 non-null  bool          \n",
      " 12  SMS_received    106987 non-null  bool          \n",
      " 13  Showed_up       106987 non-null  bool          \n",
      " 14  Date.diff       106987 non-null  int64         \n",
      "dtypes: bool(7), datetime64[ns](2), float64(1), int64(3), object(2)\n",
      "memory usage: 7.2+ MB\n"
     ]
    }
   ],
   "source": [
    "data.info()"
   ]
  },
  {
   "cell_type": "code",
   "execution_count": null,
   "id": "bd2c11cd",
   "metadata": {
    "colab": {
     "base_uri": "https://localhost:8080/"
    },
    "id": "bd2c11cd",
    "outputId": "e27c3438-bc4f-4142-9ab3-6f564c1de176"
   },
   "outputs": [
    {
     "name": "stdout",
     "output_type": "stream",
     "text": [
      "PatientId         0\n",
      "AppointmentID     0\n",
      "Gender            0\n",
      "ScheduledDay      0\n",
      "AppointmentDay    0\n",
      "Age               0\n",
      "Neighbourhood     0\n",
      "Scholarship       0\n",
      "Hypertension      0\n",
      "Diabetes          0\n",
      "Alcoholism        0\n",
      "Handicap          0\n",
      "SMS_received      0\n",
      "Showed_up         0\n",
      "Date.diff         0\n",
      "dtype: int64\n"
     ]
    }
   ],
   "source": [
    "print(data.isnull().sum())"
   ]
  },
  {
   "cell_type": "code",
   "execution_count": null,
   "id": "12c3af68",
   "metadata": {
    "id": "12c3af68"
   },
   "outputs": [],
   "source": [
    "# One-hot encoding for categorical columns 'Gender' and 'Neighbourhood'\n",
    "data = pd.get_dummies(data, columns=['Gender', 'Neighbourhood'], drop_first=True)"
   ]
  },
  {
   "cell_type": "code",
   "execution_count": null,
   "id": "cd289489",
   "metadata": {},
   "outputs": [],
   "source": [
    "data = pd.get_dummies(data, columns=['Gender', 'Neighbourhood'], drop_first=True)"
   ]
  },
  {
   "cell_type": "code",
   "execution_count": null,
   "id": "38e7ecfa",
   "metadata": {
    "colab": {
     "base_uri": "https://localhost:8080/"
    },
    "id": "38e7ecfa",
    "outputId": "6d8a8334-6cc9-423c-b9ae-a8e0e87ab284"
   },
   "outputs": [
    {
     "name": "stdout",
     "output_type": "stream",
     "text": [
      "           PatientId  AppointmentID ScheduledDay AppointmentDay  Age  \\\n",
      "0       2.987250e+13        5642903   2016-04-29     2016-04-29   62   \n",
      "1       5.589978e+14        5642503   2016-04-29     2016-04-29   56   \n",
      "2       4.262962e+12        5642549   2016-04-29     2016-04-29   62   \n",
      "3       8.679512e+11        5642828   2016-04-29     2016-04-29    8   \n",
      "4       8.841186e+12        5642494   2016-04-29     2016-04-29   56   \n",
      "...              ...            ...          ...            ...  ...   \n",
      "106982  2.572134e+12        5651768   2016-05-03     2016-06-07   56   \n",
      "106983  3.596266e+12        5650093   2016-05-03     2016-06-07   51   \n",
      "106984  1.557663e+13        5630692   2016-04-27     2016-06-07   21   \n",
      "106985  9.213493e+13        5630323   2016-04-27     2016-06-07   38   \n",
      "106986  3.775115e+14        5629448   2016-04-27     2016-06-07   54   \n",
      "\n",
      "        Scholarship  Hypertension  Diabetes  Alcoholism  Handicap  ...  \\\n",
      "0             False          True     False       False     False  ...   \n",
      "1             False         False     False       False     False  ...   \n",
      "2             False         False     False       False     False  ...   \n",
      "3             False         False     False       False     False  ...   \n",
      "4             False          True      True       False     False  ...   \n",
      "...             ...           ...       ...         ...       ...  ...   \n",
      "106982        False         False     False       False     False  ...   \n",
      "106983        False         False     False       False     False  ...   \n",
      "106984        False         False     False       False     False  ...   \n",
      "106985        False         False     False       False     False  ...   \n",
      "106986        False         False     False       False     False  ...   \n",
      "\n",
      "        Neighbourhood_SANTOS REIS  Neighbourhood_SEGURANÇA DO LAR  \\\n",
      "0                           False                           False   \n",
      "1                           False                           False   \n",
      "2                           False                           False   \n",
      "3                           False                           False   \n",
      "4                           False                           False   \n",
      "...                           ...                             ...   \n",
      "106982                      False                           False   \n",
      "106983                      False                           False   \n",
      "106984                      False                           False   \n",
      "106985                      False                           False   \n",
      "106986                      False                           False   \n",
      "\n",
      "        Neighbourhood_SOLON BORGES  Neighbourhood_SÃO BENEDITO  \\\n",
      "0                            False                       False   \n",
      "1                            False                       False   \n",
      "2                            False                       False   \n",
      "3                            False                       False   \n",
      "4                            False                       False   \n",
      "...                            ...                         ...   \n",
      "106982                       False                       False   \n",
      "106983                       False                       False   \n",
      "106984                       False                       False   \n",
      "106985                       False                       False   \n",
      "106986                       False                       False   \n",
      "\n",
      "        Neighbourhood_SÃO CRISTÓVÃO  Neighbourhood_SÃO JOSÉ  \\\n",
      "0                             False                   False   \n",
      "1                             False                   False   \n",
      "2                             False                   False   \n",
      "3                             False                   False   \n",
      "4                             False                   False   \n",
      "...                             ...                     ...   \n",
      "106982                        False                   False   \n",
      "106983                        False                   False   \n",
      "106984                        False                   False   \n",
      "106985                        False                   False   \n",
      "106986                        False                   False   \n",
      "\n",
      "        Neighbourhood_SÃO PEDRO  Neighbourhood_TABUAZEIRO  \\\n",
      "0                         False                     False   \n",
      "1                         False                     False   \n",
      "2                         False                     False   \n",
      "3                         False                     False   \n",
      "4                         False                     False   \n",
      "...                         ...                       ...   \n",
      "106982                    False                     False   \n",
      "106983                    False                     False   \n",
      "106984                    False                     False   \n",
      "106985                    False                     False   \n",
      "106986                    False                     False   \n",
      "\n",
      "        Neighbourhood_UNIVERSITÁRIO  Neighbourhood_VILA RUBIM  \n",
      "0                             False                     False  \n",
      "1                             False                     False  \n",
      "2                             False                     False  \n",
      "3                             False                     False  \n",
      "4                             False                     False  \n",
      "...                             ...                       ...  \n",
      "106982                        False                     False  \n",
      "106983                        False                     False  \n",
      "106984                        False                     False  \n",
      "106985                        False                     False  \n",
      "106986                        False                     False  \n",
      "\n",
      "[106987 rows x 94 columns]\n"
     ]
    }
   ],
   "source": [
    "print(data)"
   ]
  },
  {
   "cell_type": "code",
   "execution_count": null,
   "id": "8745bc14",
   "metadata": {
    "id": "8745bc14"
   },
   "outputs": [],
   "source": [
    "# Drop unnecessary ID columns\n",
    "data.drop(columns=['PatientId', 'AppointmentID'], inplace=True)\n",
    "data"
   ]
  },
  {
   "cell_type": "code",
   "execution_count": null,
   "id": "f9efd7e8",
   "metadata": {
    "colab": {
     "base_uri": "https://localhost:8080/"
    },
    "id": "f9efd7e8",
    "outputId": "e16f5d5e-3d36-4937-fd33-8ea200907ba8"
   },
   "outputs": [
    {
     "name": "stdout",
     "output_type": "stream",
     "text": [
      "ScheduledDay                   0\n",
      "AppointmentDay                 0\n",
      "Age                            0\n",
      "Scholarship                    0\n",
      "Hypertension                   0\n",
      "                              ..\n",
      "Neighbourhood_SÃO JOSÉ         0\n",
      "Neighbourhood_SÃO PEDRO        0\n",
      "Neighbourhood_TABUAZEIRO       0\n",
      "Neighbourhood_UNIVERSITÁRIO    0\n",
      "Neighbourhood_VILA RUBIM       0\n",
      "Length: 92, dtype: int64\n"
     ]
    }
   ],
   "source": [
    "print(data.isnull().sum())"
   ]
  },
  {
   "cell_type": "code",
   "execution_count": null,
   "id": "95d4340b",
   "metadata": {},
   "outputs": [],
   "source": []
  },
  {
   "cell_type": "code",
   "execution_count": null,
   "id": "30a997d0",
   "metadata": {
    "id": "30a997d0"
   },
   "outputs": [],
   "source": [
    "# Extract day of the week for appointments and scheduled day\n",
    "data['ScheduledDay_DayOfWeek'] = data['ScheduledDay'].dt.dayofweek\n",
    "data['AppointmentDay_DayOfWeek'] = data['AppointmentDay'].dt.dayofweek\n"
   ]
  },
  {
   "cell_type": "code",
   "execution_count": null,
   "id": "a3306604",
   "metadata": {
    "colab": {
     "base_uri": "https://localhost:8080/"
    },
    "id": "a3306604",
    "outputId": "c2e51bfe-bac6-4a6d-f740-a383013b9464"
   },
   "outputs": [
    {
     "name": "stdout",
     "output_type": "stream",
     "text": [
      "0         4\n",
      "1         4\n",
      "2         4\n",
      "3         4\n",
      "4         4\n",
      "         ..\n",
      "106982    1\n",
      "106983    1\n",
      "106984    1\n",
      "106985    1\n",
      "106986    1\n",
      "Name: AppointmentDay_DayOfWeek, Length: 106987, dtype: int32\n"
     ]
    }
   ],
   "source": [
    "print(data['AppointmentDay_DayOfWeek'])"
   ]
  },
  {
   "cell_type": "code",
   "execution_count": null,
   "id": "lDjzcMIFfprI",
   "metadata": {
    "colab": {
     "base_uri": "https://localhost:8080/"
    },
    "id": "lDjzcMIFfprI",
    "outputId": "2805a688-5e5c-440c-d05c-bba15b4fbe3b"
   },
   "outputs": [
    {
     "name": "stdout",
     "output_type": "stream",
     "text": [
      "0         4\n",
      "1         4\n",
      "2         4\n",
      "3         4\n",
      "4         4\n",
      "         ..\n",
      "106982    1\n",
      "106983    1\n",
      "106984    2\n",
      "106985    2\n",
      "106986    2\n",
      "Name: ScheduledDay_DayOfWeek, Length: 106987, dtype: int32\n"
     ]
    }
   ],
   "source": [
    "print(data['ScheduledDay_DayOfWeek'] )"
   ]
  },
  {
   "cell_type": "code",
   "execution_count": null,
   "id": "lhx61t3xfwaK",
   "metadata": {
    "colab": {
     "base_uri": "https://localhost:8080/"
    },
    "id": "lhx61t3xfwaK",
    "outputId": "d070da3c-270e-48d2-9c55-8f69c0fc6135"
   },
   "outputs": [
    {
     "name": "stdout",
     "output_type": "stream",
     "text": [
      "Index(['ScheduledDay', 'AppointmentDay', 'Age', 'Scholarship', 'Hypertension',\n",
      "       'Diabetes', 'Alcoholism', 'Handicap', 'SMS_received', 'Showed_up',\n",
      "       'Date.diff', 'Gender_M', 'Neighbourhood_ANDORINHAS',\n",
      "       'Neighbourhood_ANTÔNIO HONÓRIO', 'Neighbourhood_ARIOVALDO FAVALESSA',\n",
      "       'Neighbourhood_BARRO VERMELHO', 'Neighbourhood_BELA VISTA',\n",
      "       'Neighbourhood_BENTO FERREIRA', 'Neighbourhood_BOA VISTA',\n",
      "       'Neighbourhood_BONFIM', 'Neighbourhood_CARATOÍRA',\n",
      "       'Neighbourhood_CENTRO', 'Neighbourhood_COMDUSA',\n",
      "       'Neighbourhood_CONQUISTA', 'Neighbourhood_CONSOLAÇÃO',\n",
      "       'Neighbourhood_CRUZAMENTO', 'Neighbourhood_DA PENHA',\n",
      "       'Neighbourhood_DE LOURDES', 'Neighbourhood_DO CABRAL',\n",
      "       'Neighbourhood_DO MOSCOSO', 'Neighbourhood_DO QUADRO',\n",
      "       'Neighbourhood_ENSEADA DO SUÁ', 'Neighbourhood_ESTRELINHA',\n",
      "       'Neighbourhood_FONTE GRANDE', 'Neighbourhood_FORTE SÃO JOÃO',\n",
      "       'Neighbourhood_FRADINHOS', 'Neighbourhood_GOIABEIRAS',\n",
      "       'Neighbourhood_GRANDE VITÓRIA', 'Neighbourhood_GURIGICA',\n",
      "       'Neighbourhood_HORTO', 'Neighbourhood_ILHA DAS CAIEIRAS',\n",
      "       'Neighbourhood_ILHA DE SANTA MARIA', 'Neighbourhood_ILHA DO BOI',\n",
      "       'Neighbourhood_ILHA DO FRADE', 'Neighbourhood_ILHA DO PRÍNCIPE',\n",
      "       'Neighbourhood_ILHAS OCEÂNICAS DE TRINDADE', 'Neighbourhood_INHANGUETÁ',\n",
      "       'Neighbourhood_ITARARÉ', 'Neighbourhood_JABOUR',\n",
      "       'Neighbourhood_JARDIM CAMBURI', 'Neighbourhood_JARDIM DA PENHA',\n",
      "       'Neighbourhood_JESUS DE NAZARETH', 'Neighbourhood_JOANA D´ARC',\n",
      "       'Neighbourhood_JUCUTUQUARA', 'Neighbourhood_MARIA ORTIZ',\n",
      "       'Neighbourhood_MARUÍPE', 'Neighbourhood_MATA DA PRAIA',\n",
      "       'Neighbourhood_MONTE BELO', 'Neighbourhood_MORADA DE CAMBURI',\n",
      "       'Neighbourhood_MÁRIO CYPRESTE', 'Neighbourhood_NAZARETH',\n",
      "       'Neighbourhood_NOVA PALESTINA', 'Neighbourhood_PARQUE INDUSTRIAL',\n",
      "       'Neighbourhood_PARQUE MOSCOSO', 'Neighbourhood_PIEDADE',\n",
      "       'Neighbourhood_PONTAL DE CAMBURI', 'Neighbourhood_PRAIA DO CANTO',\n",
      "       'Neighbourhood_PRAIA DO SUÁ', 'Neighbourhood_REDENÇÃO',\n",
      "       'Neighbourhood_REPÚBLICA', 'Neighbourhood_RESISTÊNCIA',\n",
      "       'Neighbourhood_ROMÃO', 'Neighbourhood_SANTA CECÍLIA',\n",
      "       'Neighbourhood_SANTA CLARA', 'Neighbourhood_SANTA HELENA',\n",
      "       'Neighbourhood_SANTA LUÍZA', 'Neighbourhood_SANTA LÚCIA',\n",
      "       'Neighbourhood_SANTA MARTHA', 'Neighbourhood_SANTA TEREZA',\n",
      "       'Neighbourhood_SANTO ANDRÉ', 'Neighbourhood_SANTO ANTÔNIO',\n",
      "       'Neighbourhood_SANTOS DUMONT', 'Neighbourhood_SANTOS REIS',\n",
      "       'Neighbourhood_SEGURANÇA DO LAR', 'Neighbourhood_SOLON BORGES',\n",
      "       'Neighbourhood_SÃO BENEDITO', 'Neighbourhood_SÃO CRISTÓVÃO',\n",
      "       'Neighbourhood_SÃO JOSÉ', 'Neighbourhood_SÃO PEDRO',\n",
      "       'Neighbourhood_TABUAZEIRO', 'Neighbourhood_UNIVERSITÁRIO',\n",
      "       'Neighbourhood_VILA RUBIM', 'ScheduledDay_DayOfWeek',\n",
      "       'AppointmentDay_DayOfWeek'],\n",
      "      dtype='object')\n"
     ]
    }
   ],
   "source": [
    "print(data.columns)"
   ]
  },
  {
   "cell_type": "code",
   "execution_count": null,
   "id": "ULj4fCguf3-9",
   "metadata": {
    "colab": {
     "base_uri": "https://localhost:8080/",
     "height": 487
    },
    "id": "ULj4fCguf3-9",
    "outputId": "70d2fe81-c126-4386-c210-eee62d9f3511"
   },
   "outputs": [
    {
     "data": {
      "image/png": "[encoded data removed]",
      "text/plain": [
       "<Figure size 800x500 with 1 Axes>"
      ]
     },
     "metadata": {},
     "output_type": "display_data"
    }
   ],
   "source": [
    "# Distribution of Age\n",
    "plt.figure(figsize=(8, 5))\n",
    "sns.histplot(data['Age'], bins=10, kde=True)\n",
    "plt.title(\"Age Distribution\")\n",
    "plt.xlabel(\"Age\")\n",
    "plt.ylabel(\"Frequency\")\n",
    "plt.show()"
   ]
  },
  {
   "cell_type": "code",
   "execution_count": null,
   "id": "vg3Cj7_4gA7g",
   "metadata": {
    "colab": {
     "base_uri": "https://localhost:8080/",
     "height": 517
    },
    "id": "vg3Cj7_4gA7g",
    "outputId": "71130ce8-d170-48bf-ec64-cd50d1544df9"
   },
   "outputs": [
    {
     "name": "stderr",
     "output_type": "stream",
     "text": [
      "C:\\Users\\user\\AppData\\Local\\Temp\\ipykernel_10528\\1069361381.py:4: FutureWarning: \n",
      "\n",
      "Passing `palette` without assigning `hue` is deprecated and will be removed in v0.14.0. Assign the `x` variable to `hue` and set `legend=False` for the same effect.\n",
      "\n",
      "  sns.barplot(x=no_show_counts.index, y=no_show_counts.values, palette=\"viridis\")\n"
     ]
    },
    {
     "data": {
      "image/png": "[encoded data removed]",
      "text/plain": [
       "<Figure size 600x400 with 1 Axes>"
      ]
     },
     "metadata": {},
     "output_type": "display_data"
    }
   ],
   "source": [
    "# Appointment No-Show Analysis\n",
    "no_show_counts = data['Showed_up'].value_counts()\n",
    "plt.figure(figsize=(6, 4))\n",
    "sns.barplot(x=no_show_counts.index, y=no_show_counts.values, palette=\"viridis\")\n",
    "plt.xticks([0, 1], ['No-show', 'Showed'])\n",
    "plt.title(\"Appointment Attendance\")\n",
    "plt.ylabel(\"Count\")\n",
    "plt.show()"
   ]
  },
  {
   "cell_type": "code",
   "execution_count": null,
   "id": "RU_2g6p1gJzH",
   "metadata": {
    "colab": {
     "base_uri": "https://localhost:8080/",
     "height": 143
    },
    "id": "RU_2g6p1gJzH",
    "outputId": "2861347a-1cae-4f64-bc65-1107a299be42"
   },
   "outputs": [
    {
     "data": {
      "text/html": [
       "<div>\n",
       "<style scoped>\n",
       "    .dataframe tbody tr th:only-of-type {\n",
       "        vertical-align: middle;\n",
       "    }\n",
       "\n",
       "    .dataframe tbody tr th {\n",
       "        vertical-align: top;\n",
       "    }\n",
       "\n",
       "    .dataframe thead th {\n",
       "        text-align: right;\n",
       "    }\n",
       "</style>\n",
       "<table border=\"1\" class=\"dataframe\">\n",
       "  <thead>\n",
       "    <tr style=\"text-align: right;\">\n",
       "      <th>Showed_up</th>\n",
       "      <th>False</th>\n",
       "      <th>True</th>\n",
       "    </tr>\n",
       "    <tr>\n",
       "      <th>SMS_received</th>\n",
       "      <th></th>\n",
       "      <th></th>\n",
       "    </tr>\n",
       "  </thead>\n",
       "  <tbody>\n",
       "    <tr>\n",
       "      <th>False</th>\n",
       "      <td>12112</td>\n",
       "      <td>60290</td>\n",
       "    </tr>\n",
       "    <tr>\n",
       "      <th>True</th>\n",
       "      <td>9568</td>\n",
       "      <td>25017</td>\n",
       "    </tr>\n",
       "  </tbody>\n",
       "</table>\n",
       "</div>"
      ],
      "text/plain": [
       "Showed_up     False  True \n",
       "SMS_received              \n",
       "False         12112  60290\n",
       "True           9568  25017"
      ]
     },
     "execution_count": 98,
     "metadata": {},
     "output_type": "execute_result"
    }
   ],
   "source": [
    "# Analyzing the impact of SMS on attendance\n",
    "sms_vs_show = data.groupby(['SMS_received', 'Showed_up']).size().unstack()\n",
    "sms_vs_show"
   ]
  },
  {
   "cell_type": "code",
   "execution_count": null,
   "id": "UYWjEnDlgNh0",
   "metadata": {
    "colab": {
     "base_uri": "https://localhost:8080/",
     "height": 585
    },
    "id": "UYWjEnDlgNh0",
    "outputId": "77c88232-715f-4c5c-d1b3-33a699106b91"
   },
   "outputs": [
    {
     "data": {
      "image/png": "[encoded data removed]",
      "text/plain": [
       "<Figure size 800x600 with 1 Axes>"
      ]
     },
     "metadata": {},
     "output_type": "display_data"
    }
   ],
   "source": [
    "sms_vs_show.plot(kind='bar', stacked=True, color=['#8B008B', '#FF8C00'], figsize=(8, 6))\n",
    "plt.title(\"Impact of SMS Received on Show-Up Rates\")\n",
    "plt.ylabel(\"Count\")\n",
    "plt.xlabel(\"SMS Received\")\n",
    "plt.legend([\"No-show\", \"Showed\"], title=\"Attendance\")\n",
    "plt.show()"
   ]
  },
  {
   "cell_type": "code",
   "execution_count": null,
   "id": "HoO_IMD8gRrL",
   "metadata": {
    "colab": {
     "base_uri": "https://localhost:8080/",
     "height": 461
    },
    "id": "HoO_IMD8gRrL",
    "outputId": "a4603caf-f840-4151-cb60-2373d01dda9e"
   },
   "outputs": [
    {
     "data": {
      "text/html": [
       "<div>\n",
       "<style scoped>\n",
       "    .dataframe tbody tr th:only-of-type {\n",
       "        vertical-align: middle;\n",
       "    }\n",
       "\n",
       "    .dataframe tbody tr th {\n",
       "        vertical-align: top;\n",
       "    }\n",
       "\n",
       "    .dataframe thead th {\n",
       "        text-align: right;\n",
       "    }\n",
       "</style>\n",
       "<table border=\"1\" class=\"dataframe\">\n",
       "  <thead>\n",
       "    <tr style=\"text-align: right;\">\n",
       "      <th></th>\n",
       "      <th>ScheduledDay</th>\n",
       "      <th>AppointmentDay</th>\n",
       "      <th>Age</th>\n",
       "      <th>Scholarship</th>\n",
       "      <th>Hypertension</th>\n",
       "      <th>Diabetes</th>\n",
       "      <th>Alcoholism</th>\n",
       "      <th>Handicap</th>\n",
       "      <th>SMS_received</th>\n",
       "      <th>Showed_up</th>\n",
       "      <th>...</th>\n",
       "      <th>Neighbourhood_SOLON BORGES</th>\n",
       "      <th>Neighbourhood_SÃO BENEDITO</th>\n",
       "      <th>Neighbourhood_SÃO CRISTÓVÃO</th>\n",
       "      <th>Neighbourhood_SÃO JOSÉ</th>\n",
       "      <th>Neighbourhood_SÃO PEDRO</th>\n",
       "      <th>Neighbourhood_TABUAZEIRO</th>\n",
       "      <th>Neighbourhood_UNIVERSITÁRIO</th>\n",
       "      <th>Neighbourhood_VILA RUBIM</th>\n",
       "      <th>ScheduledDay_DayOfWeek</th>\n",
       "      <th>AppointmentDay_DayOfWeek</th>\n",
       "    </tr>\n",
       "  </thead>\n",
       "  <tbody>\n",
       "    <tr>\n",
       "      <th>ScheduledDay</th>\n",
       "      <td>1.000000</td>\n",
       "      <td>0.604808</td>\n",
       "      <td>-0.024109</td>\n",
       "      <td>0.023316</td>\n",
       "      <td>0.012334</td>\n",
       "      <td>0.022470</td>\n",
       "      <td>0.032760</td>\n",
       "      <td>0.014480</td>\n",
       "      <td>-0.255584</td>\n",
       "      <td>0.161646</td>\n",
       "      <td>...</td>\n",
       "      <td>-0.009492</td>\n",
       "      <td>0.020964</td>\n",
       "      <td>-0.013094</td>\n",
       "      <td>0.024810</td>\n",
       "      <td>0.034168</td>\n",
       "      <td>0.005844</td>\n",
       "      <td>0.005199</td>\n",
       "      <td>-0.016154</td>\n",
       "      <td>-0.044288</td>\n",
       "      <td>-0.064520</td>\n",
       "    </tr>\n",
       "    <tr>\n",
       "      <th>AppointmentDay</th>\n",
       "      <td>0.604808</td>\n",
       "      <td>1.000000</td>\n",
       "      <td>0.010805</td>\n",
       "      <td>-0.001483</td>\n",
       "      <td>-0.001904</td>\n",
       "      <td>0.001069</td>\n",
       "      <td>0.002698</td>\n",
       "      <td>-0.003673</td>\n",
       "      <td>0.094904</td>\n",
       "      <td>0.021425</td>\n",
       "      <td>...</td>\n",
       "      <td>-0.000612</td>\n",
       "      <td>0.001764</td>\n",
       "      <td>-0.005183</td>\n",
       "      <td>-0.003673</td>\n",
       "      <td>-0.004694</td>\n",
       "      <td>-0.003642</td>\n",
       "      <td>0.001342</td>\n",
       "      <td>-0.011703</td>\n",
       "      <td>-0.052977</td>\n",
       "      <td>-0.117855</td>\n",
       "    </tr>\n",
       "    <tr>\n",
       "      <th>Age</th>\n",
       "      <td>-0.024109</td>\n",
       "      <td>0.010805</td>\n",
       "      <td>1.000000</td>\n",
       "      <td>-0.112699</td>\n",
       "      <td>0.502091</td>\n",
       "      <td>0.290631</td>\n",
       "      <td>0.090391</td>\n",
       "      <td>0.079726</td>\n",
       "      <td>0.005251</td>\n",
       "      <td>0.067025</td>\n",
       "      <td>...</td>\n",
       "      <td>0.023734</td>\n",
       "      <td>-0.038731</td>\n",
       "      <td>0.011605</td>\n",
       "      <td>-0.016265</td>\n",
       "      <td>-0.004734</td>\n",
       "      <td>-0.015487</td>\n",
       "      <td>0.006697</td>\n",
       "      <td>0.028621</td>\n",
       "      <td>0.007503</td>\n",
       "      <td>0.000548</td>\n",
       "    </tr>\n",
       "    <tr>\n",
       "      <th>Scholarship</th>\n",
       "      <td>0.023316</td>\n",
       "      <td>-0.001483</td>\n",
       "      <td>-0.112699</td>\n",
       "      <td>1.000000</td>\n",
       "      <td>-0.024530</td>\n",
       "      <td>-0.027622</td>\n",
       "      <td>0.033527</td>\n",
       "      <td>-0.010465</td>\n",
       "      <td>-0.000010</td>\n",
       "      <td>-0.029370</td>\n",
       "      <td>...</td>\n",
       "      <td>-0.004622</td>\n",
       "      <td>0.074302</td>\n",
       "      <td>-0.002020</td>\n",
       "      <td>-0.002066</td>\n",
       "      <td>0.017786</td>\n",
       "      <td>0.041202</td>\n",
       "      <td>-0.008473</td>\n",
       "      <td>-0.004865</td>\n",
       "      <td>-0.005582</td>\n",
       "      <td>-0.000780</td>\n",
       "    </tr>\n",
       "    <tr>\n",
       "      <th>Hypertension</th>\n",
       "      <td>0.012334</td>\n",
       "      <td>-0.001904</td>\n",
       "      <td>0.502091</td>\n",
       "      <td>-0.024530</td>\n",
       "      <td>1.000000</td>\n",
       "      <td>0.430827</td>\n",
       "      <td>0.085459</td>\n",
       "      <td>0.082909</td>\n",
       "      <td>-0.008805</td>\n",
       "      <td>0.037280</td>\n",
       "      <td>...</td>\n",
       "      <td>-0.022934</td>\n",
       "      <td>0.003887</td>\n",
       "      <td>0.035013</td>\n",
       "      <td>0.023448</td>\n",
       "      <td>0.030415</td>\n",
       "      <td>0.013566</td>\n",
       "      <td>0.006323</td>\n",
       "      <td>0.016956</td>\n",
       "      <td>-0.000669</td>\n",
       "      <td>0.002716</td>\n",
       "    </tr>\n",
       "    <tr>\n",
       "      <th>...</th>\n",
       "      <td>...</td>\n",
       "      <td>...</td>\n",
       "      <td>...</td>\n",
       "      <td>...</td>\n",
       "      <td>...</td>\n",
       "      <td>...</td>\n",
       "      <td>...</td>\n",
       "      <td>...</td>\n",
       "      <td>...</td>\n",
       "      <td>...</td>\n",
       "      <td>...</td>\n",
       "      <td>...</td>\n",
       "      <td>...</td>\n",
       "      <td>...</td>\n",
       "      <td>...</td>\n",
       "      <td>...</td>\n",
       "      <td>...</td>\n",
       "      <td>...</td>\n",
       "      <td>...</td>\n",
       "      <td>...</td>\n",
       "      <td>...</td>\n",
       "    </tr>\n",
       "    <tr>\n",
       "      <th>Neighbourhood_TABUAZEIRO</th>\n",
       "      <td>0.005844</td>\n",
       "      <td>-0.003642</td>\n",
       "      <td>-0.015487</td>\n",
       "      <td>0.041202</td>\n",
       "      <td>0.013566</td>\n",
       "      <td>0.003415</td>\n",
       "      <td>-0.012238</td>\n",
       "      <td>0.006620</td>\n",
       "      <td>-0.004578</td>\n",
       "      <td>0.008394</td>\n",
       "      <td>...</td>\n",
       "      <td>-0.011100</td>\n",
       "      <td>-0.019271</td>\n",
       "      <td>-0.022197</td>\n",
       "      <td>-0.022716</td>\n",
       "      <td>-0.025515</td>\n",
       "      <td>1.000000</td>\n",
       "      <td>-0.006406</td>\n",
       "      <td>-0.015059</td>\n",
       "      <td>-0.002388</td>\n",
       "      <td>0.000219</td>\n",
       "    </tr>\n",
       "    <tr>\n",
       "      <th>Neighbourhood_UNIVERSITÁRIO</th>\n",
       "      <td>0.005199</td>\n",
       "      <td>0.001342</td>\n",
       "      <td>0.006697</td>\n",
       "      <td>-0.008473</td>\n",
       "      <td>0.006323</td>\n",
       "      <td>0.005498</td>\n",
       "      <td>-0.003915</td>\n",
       "      <td>-0.000281</td>\n",
       "      <td>0.002761</td>\n",
       "      <td>-0.000868</td>\n",
       "      <td>...</td>\n",
       "      <td>-0.002449</td>\n",
       "      <td>-0.004252</td>\n",
       "      <td>-0.004897</td>\n",
       "      <td>-0.005012</td>\n",
       "      <td>-0.005629</td>\n",
       "      <td>-0.006406</td>\n",
       "      <td>1.000000</td>\n",
       "      <td>-0.003322</td>\n",
       "      <td>-0.002928</td>\n",
       "      <td>0.000195</td>\n",
       "    </tr>\n",
       "    <tr>\n",
       "      <th>Neighbourhood_VILA RUBIM</th>\n",
       "      <td>-0.016154</td>\n",
       "      <td>-0.011703</td>\n",
       "      <td>0.028621</td>\n",
       "      <td>-0.004865</td>\n",
       "      <td>0.016956</td>\n",
       "      <td>0.011569</td>\n",
       "      <td>-0.005522</td>\n",
       "      <td>0.015369</td>\n",
       "      <td>0.009575</td>\n",
       "      <td>0.007688</td>\n",
       "      <td>...</td>\n",
       "      <td>-0.005756</td>\n",
       "      <td>-0.009994</td>\n",
       "      <td>-0.011511</td>\n",
       "      <td>-0.011780</td>\n",
       "      <td>-0.013232</td>\n",
       "      <td>-0.015059</td>\n",
       "      <td>-0.003322</td>\n",
       "      <td>1.000000</td>\n",
       "      <td>-0.006292</td>\n",
       "      <td>-0.005853</td>\n",
       "    </tr>\n",
       "    <tr>\n",
       "      <th>ScheduledDay_DayOfWeek</th>\n",
       "      <td>-0.044288</td>\n",
       "      <td>-0.052977</td>\n",
       "      <td>0.007503</td>\n",
       "      <td>-0.005582</td>\n",
       "      <td>-0.000669</td>\n",
       "      <td>-0.001156</td>\n",
       "      <td>0.006256</td>\n",
       "      <td>0.000723</td>\n",
       "      <td>0.078614</td>\n",
       "      <td>-0.006087</td>\n",
       "      <td>...</td>\n",
       "      <td>-0.002381</td>\n",
       "      <td>-0.004496</td>\n",
       "      <td>-0.000603</td>\n",
       "      <td>0.028662</td>\n",
       "      <td>0.010121</td>\n",
       "      <td>-0.002388</td>\n",
       "      <td>-0.002928</td>\n",
       "      <td>-0.006292</td>\n",
       "      <td>1.000000</td>\n",
       "      <td>0.324909</td>\n",
       "    </tr>\n",
       "    <tr>\n",
       "      <th>AppointmentDay_DayOfWeek</th>\n",
       "      <td>-0.064520</td>\n",
       "      <td>-0.117855</td>\n",
       "      <td>0.000548</td>\n",
       "      <td>-0.000780</td>\n",
       "      <td>0.002716</td>\n",
       "      <td>0.006279</td>\n",
       "      <td>0.002459</td>\n",
       "      <td>0.004409</td>\n",
       "      <td>-0.092621</td>\n",
       "      <td>-0.002079</td>\n",
       "      <td>...</td>\n",
       "      <td>0.004212</td>\n",
       "      <td>-0.002469</td>\n",
       "      <td>0.001815</td>\n",
       "      <td>0.016791</td>\n",
       "      <td>0.004300</td>\n",
       "      <td>0.000219</td>\n",
       "      <td>0.000195</td>\n",
       "      <td>-0.005853</td>\n",
       "      <td>0.324909</td>\n",
       "      <td>1.000000</td>\n",
       "    </tr>\n",
       "  </tbody>\n",
       "</table>\n",
       "<p>94 rows × 94 columns</p>\n",
       "</div>"
      ],
      "text/plain": [
       "                             ScheduledDay  AppointmentDay       Age  \\\n",
       "ScheduledDay                     1.000000        0.604808 -0.024109   \n",
       "AppointmentDay                   0.604808        1.000000  0.010805   \n",
       "Age                             -0.024109        0.010805  1.000000   \n",
       "Scholarship                      0.023316       -0.001483 -0.112699   \n",
       "Hypertension                     0.012334       -0.001904  0.502091   \n",
       "...                                   ...             ...       ...   \n",
       "Neighbourhood_TABUAZEIRO         0.005844       -0.003642 -0.015487   \n",
       "Neighbourhood_UNIVERSITÁRIO      0.005199        0.001342  0.006697   \n",
       "Neighbourhood_VILA RUBIM        -0.016154       -0.011703  0.028621   \n",
       "ScheduledDay_DayOfWeek          -0.044288       -0.052977  0.007503   \n",
       "AppointmentDay_DayOfWeek        -0.064520       -0.117855  0.000548   \n",
       "\n",
       "                             Scholarship  Hypertension  Diabetes  Alcoholism  \\\n",
       "ScheduledDay                    0.023316      0.012334  0.022470    0.032760   \n",
       "AppointmentDay                 -0.001483     -0.001904  0.001069    0.002698   \n",
       "Age                            -0.112699      0.502091  0.290631    0.090391   \n",
       "Scholarship                     1.000000     -0.024530 -0.027622    0.033527   \n",
       "Hypertension                   -0.024530      1.000000  0.430827    0.085459   \n",
       "...                                  ...           ...       ...         ...   \n",
       "Neighbourhood_TABUAZEIRO        0.041202      0.013566  0.003415   -0.012238   \n",
       "Neighbourhood_UNIVERSITÁRIO    -0.008473      0.006323  0.005498   -0.003915   \n",
       "Neighbourhood_VILA RUBIM       -0.004865      0.016956  0.011569   -0.005522   \n",
       "ScheduledDay_DayOfWeek         -0.005582     -0.000669 -0.001156    0.006256   \n",
       "AppointmentDay_DayOfWeek       -0.000780      0.002716  0.006279    0.002459   \n",
       "\n",
       "                             Handicap  SMS_received  Showed_up  ...  \\\n",
       "ScheduledDay                 0.014480     -0.255584   0.161646  ...   \n",
       "AppointmentDay              -0.003673      0.094904   0.021425  ...   \n",
       "Age                          0.079726      0.005251   0.067025  ...   \n",
       "Scholarship                 -0.010465     -0.000010  -0.029370  ...   \n",
       "Hypertension                 0.082909     -0.008805   0.037280  ...   \n",
       "...                               ...           ...        ...  ...   \n",
       "Neighbourhood_TABUAZEIRO     0.006620     -0.004578   0.008394  ...   \n",
       "Neighbourhood_UNIVERSITÁRIO -0.000281      0.002761  -0.000868  ...   \n",
       "Neighbourhood_VILA RUBIM     0.015369      0.009575   0.007688  ...   \n",
       "ScheduledDay_DayOfWeek       0.000723      0.078614  -0.006087  ...   \n",
       "AppointmentDay_DayOfWeek     0.004409     -0.092621  -0.002079  ...   \n",
       "\n",
       "                             Neighbourhood_SOLON BORGES  \\\n",
       "ScheduledDay                                  -0.009492   \n",
       "AppointmentDay                                -0.000612   \n",
       "Age                                            0.023734   \n",
       "Scholarship                                   -0.004622   \n",
       "Hypertension                                  -0.022934   \n",
       "...                                                 ...   \n",
       "Neighbourhood_TABUAZEIRO                      -0.011100   \n",
       "Neighbourhood_UNIVERSITÁRIO                   -0.002449   \n",
       "Neighbourhood_VILA RUBIM                      -0.005756   \n",
       "ScheduledDay_DayOfWeek                        -0.002381   \n",
       "AppointmentDay_DayOfWeek                       0.004212   \n",
       "\n",
       "                             Neighbourhood_SÃO BENEDITO  \\\n",
       "ScheduledDay                                   0.020964   \n",
       "AppointmentDay                                 0.001764   \n",
       "Age                                           -0.038731   \n",
       "Scholarship                                    0.074302   \n",
       "Hypertension                                   0.003887   \n",
       "...                                                 ...   \n",
       "Neighbourhood_TABUAZEIRO                      -0.019271   \n",
       "Neighbourhood_UNIVERSITÁRIO                   -0.004252   \n",
       "Neighbourhood_VILA RUBIM                      -0.009994   \n",
       "ScheduledDay_DayOfWeek                        -0.004496   \n",
       "AppointmentDay_DayOfWeek                      -0.002469   \n",
       "\n",
       "                             Neighbourhood_SÃO CRISTÓVÃO  \\\n",
       "ScheduledDay                                   -0.013094   \n",
       "AppointmentDay                                 -0.005183   \n",
       "Age                                             0.011605   \n",
       "Scholarship                                    -0.002020   \n",
       "Hypertension                                    0.035013   \n",
       "...                                                  ...   \n",
       "Neighbourhood_TABUAZEIRO                       -0.022197   \n",
       "Neighbourhood_UNIVERSITÁRIO                    -0.004897   \n",
       "Neighbourhood_VILA RUBIM                       -0.011511   \n",
       "ScheduledDay_DayOfWeek                         -0.000603   \n",
       "AppointmentDay_DayOfWeek                        0.001815   \n",
       "\n",
       "                             Neighbourhood_SÃO JOSÉ  Neighbourhood_SÃO PEDRO  \\\n",
       "ScheduledDay                               0.024810                 0.034168   \n",
       "AppointmentDay                            -0.003673                -0.004694   \n",
       "Age                                       -0.016265                -0.004734   \n",
       "Scholarship                               -0.002066                 0.017786   \n",
       "Hypertension                               0.023448                 0.030415   \n",
       "...                                             ...                      ...   \n",
       "Neighbourhood_TABUAZEIRO                  -0.022716                -0.025515   \n",
       "Neighbourhood_UNIVERSITÁRIO               -0.005012                -0.005629   \n",
       "Neighbourhood_VILA RUBIM                  -0.011780                -0.013232   \n",
       "ScheduledDay_DayOfWeek                     0.028662                 0.010121   \n",
       "AppointmentDay_DayOfWeek                   0.016791                 0.004300   \n",
       "\n",
       "                             Neighbourhood_TABUAZEIRO  \\\n",
       "ScheduledDay                                 0.005844   \n",
       "AppointmentDay                              -0.003642   \n",
       "Age                                         -0.015487   \n",
       "Scholarship                                  0.041202   \n",
       "Hypertension                                 0.013566   \n",
       "...                                               ...   \n",
       "Neighbourhood_TABUAZEIRO                     1.000000   \n",
       "Neighbourhood_UNIVERSITÁRIO                 -0.006406   \n",
       "Neighbourhood_VILA RUBIM                    -0.015059   \n",
       "ScheduledDay_DayOfWeek                      -0.002388   \n",
       "AppointmentDay_DayOfWeek                     0.000219   \n",
       "\n",
       "                             Neighbourhood_UNIVERSITÁRIO  \\\n",
       "ScheduledDay                                    0.005199   \n",
       "AppointmentDay                                  0.001342   \n",
       "Age                                             0.006697   \n",
       "Scholarship                                    -0.008473   \n",
       "Hypertension                                    0.006323   \n",
       "...                                                  ...   \n",
       "Neighbourhood_TABUAZEIRO                       -0.006406   \n",
       "Neighbourhood_UNIVERSITÁRIO                     1.000000   \n",
       "Neighbourhood_VILA RUBIM                       -0.003322   \n",
       "ScheduledDay_DayOfWeek                         -0.002928   \n",
       "AppointmentDay_DayOfWeek                        0.000195   \n",
       "\n",
       "                             Neighbourhood_VILA RUBIM  ScheduledDay_DayOfWeek  \\\n",
       "ScheduledDay                                -0.016154               -0.044288   \n",
       "AppointmentDay                              -0.011703               -0.052977   \n",
       "Age                                          0.028621                0.007503   \n",
       "Scholarship                                 -0.004865               -0.005582   \n",
       "Hypertension                                 0.016956               -0.000669   \n",
       "...                                               ...                     ...   \n",
       "Neighbourhood_TABUAZEIRO                    -0.015059               -0.002388   \n",
       "Neighbourhood_UNIVERSITÁRIO                 -0.003322               -0.002928   \n",
       "Neighbourhood_VILA RUBIM                     1.000000               -0.006292   \n",
       "ScheduledDay_DayOfWeek                      -0.006292                1.000000   \n",
       "AppointmentDay_DayOfWeek                    -0.005853                0.324909   \n",
       "\n",
       "                             AppointmentDay_DayOfWeek  \n",
       "ScheduledDay                                -0.064520  \n",
       "AppointmentDay                              -0.117855  \n",
       "Age                                          0.000548  \n",
       "Scholarship                                 -0.000780  \n",
       "Hypertension                                 0.002716  \n",
       "...                                               ...  \n",
       "Neighbourhood_TABUAZEIRO                     0.000219  \n",
       "Neighbourhood_UNIVERSITÁRIO                  0.000195  \n",
       "Neighbourhood_VILA RUBIM                    -0.005853  \n",
       "ScheduledDay_DayOfWeek                       0.324909  \n",
       "AppointmentDay_DayOfWeek                     1.000000  \n",
       "\n",
       "[94 rows x 94 columns]"
      ]
     },
     "execution_count": 100,
     "metadata": {},
     "output_type": "execute_result"
    }
   ],
   "source": [
    "data.corr()"
   ]
  },
  {
   "cell_type": "code",
   "execution_count": null,
   "id": "ETBttj86gWuM",
   "metadata": {
    "id": "ETBttj86gWuM"
   },
   "outputs": [],
   "source": [
    "# Drop the Neighbourhood column\n",
    "data_without_neighbourhood = data.drop(columns=['Neighbourhood_ANDORINHAS',\n",
    "       'Neighbourhood_ANTÔNIO HONÓRIO', 'Neighbourhood_ARIOVALDO FAVALESSA',\n",
    "       'Neighbourhood_BARRO VERMELHO', 'Neighbourhood_BELA VISTA',\n",
    "       'Neighbourhood_BENTO FERREIRA', 'Neighbourhood_BOA VISTA',\n",
    "       'Neighbourhood_BONFIM', 'Neighbourhood_CARATOÍRA',\n",
    "       'Neighbourhood_CENTRO', 'Neighbourhood_COMDUSA',\n",
    "       'Neighbourhood_CONQUISTA', 'Neighbourhood_CONSOLAÇÃO',\n",
    "       'Neighbourhood_CRUZAMENTO', 'Neighbourhood_DA PENHA',\n",
    "       'Neighbourhood_DE LOURDES', 'Neighbourhood_DO CABRAL',\n",
    "       'Neighbourhood_DO MOSCOSO', 'Neighbourhood_DO QUADRO',\n",
    "       'Neighbourhood_ENSEADA DO SUÁ', 'Neighbourhood_ESTRELINHA',\n",
    "       'Neighbourhood_FONTE GRANDE', 'Neighbourhood_FORTE SÃO JOÃO',\n",
    "       'Neighbourhood_FRADINHOS', 'Neighbourhood_GOIABEIRAS',\n",
    "       'Neighbourhood_GRANDE VITÓRIA', 'Neighbourhood_GURIGICA',\n",
    "       'Neighbourhood_HORTO', 'Neighbourhood_ILHA DAS CAIEIRAS',\n",
    "       'Neighbourhood_ILHA DE SANTA MARIA', 'Neighbourhood_ILHA DO BOI',\n",
    "       'Neighbourhood_ILHA DO FRADE', 'Neighbourhood_ILHA DO PRÍNCIPE',\n",
    "       'Neighbourhood_ILHAS OCEÂNICAS DE TRINDADE', 'Neighbourhood_INHANGUETÁ',\n",
    "       'Neighbourhood_ITARARÉ', 'Neighbourhood_JABOUR',\n",
    "       'Neighbourhood_JARDIM CAMBURI', 'Neighbourhood_JARDIM DA PENHA',\n",
    "       'Neighbourhood_JESUS DE NAZARETH', 'Neighbourhood_JOANA D´ARC',\n",
    "       'Neighbourhood_JUCUTUQUARA', 'Neighbourhood_MARIA ORTIZ',\n",
    "       'Neighbourhood_MARUÍPE', 'Neighbourhood_MATA DA PRAIA',\n",
    "       'Neighbourhood_MONTE BELO', 'Neighbourhood_MORADA DE CAMBURI',\n",
    "       'Neighbourhood_MÁRIO CYPRESTE', 'Neighbourhood_NAZARETH',\n",
    "       'Neighbourhood_NOVA PALESTINA', 'Neighbourhood_PARQUE INDUSTRIAL',\n",
    "       'Neighbourhood_PARQUE MOSCOSO', 'Neighbourhood_PIEDADE',\n",
    "       'Neighbourhood_PONTAL DE CAMBURI', 'Neighbourhood_PRAIA DO CANTO',\n",
    "       'Neighbourhood_PRAIA DO SUÁ', 'Neighbourhood_REDENÇÃO',\n",
    "       'Neighbourhood_REPÚBLICA', 'Neighbourhood_RESISTÊNCIA',\n",
    "       'Neighbourhood_ROMÃO', 'Neighbourhood_SANTA CECÍLIA',\n",
    "       'Neighbourhood_SANTA CLARA', 'Neighbourhood_SANTA HELENA',\n",
    "       'Neighbourhood_SANTA LUÍZA', 'Neighbourhood_SANTA LÚCIA',\n",
    "       'Neighbourhood_SANTA MARTHA', 'Neighbourhood_SANTA TEREZA',\n",
    "       'Neighbourhood_SANTO ANDRÉ', 'Neighbourhood_SANTO ANTÔNIO',\n",
    "       'Neighbourhood_SANTOS DUMONT', 'Neighbourhood_SANTOS REIS',\n",
    "       'Neighbourhood_SEGURANÇA DO LAR', 'Neighbourhood_SOLON BORGES',\n",
    "       'Neighbourhood_SÃO BENEDITO', 'Neighbourhood_SÃO CRISTÓVÃO',\n",
    "       'Neighbourhood_SÃO JOSÉ', 'Neighbourhood_SÃO PEDRO',\n",
    "       'Neighbourhood_TABUAZEIRO', 'Neighbourhood_UNIVERSITÁRIO',\n",
    "       'Neighbourhood_VILA RUBIM'])\n",
    "\n"
   ]
  },
  {
   "cell_type": "code",
   "execution_count": null,
   "id": "-xPcdvlBgbev",
   "metadata": {
    "id": "-xPcdvlBgbev"
   },
   "outputs": [],
   "source": [
    "\n",
    "# Compute correlation matrix\n",
    "correlation_matrix = data_without_neighbourhood.corr()"
   ]
  },
  {
   "cell_type": "code",
   "execution_count": null,
   "id": "Ej7IiO8vgbbX",
   "metadata": {
    "colab": {
     "base_uri": "https://localhost:8080/",
     "height": 893
    },
    "id": "Ej7IiO8vgbbX",
    "outputId": "3a13ac05-ce35-4f85-9a3c-091ed40ab181"
   },
   "outputs": [
    {
     "data": {
      "image/png": "[encoded data removed]",
      "text/plain": [
       "<Figure size 1200x800 with 2 Axes>"
      ]
     },
     "metadata": {},
     "output_type": "display_data"
    }
   ],
   "source": [
    "# Visualize correlation matrix\n",
    "plt.figure(figsize=(12, 8))\n",
    "sns.heatmap(correlation_matrix, annot=True, fmt=\".2f\", cmap='viridis', vmin=-1, vmax=1)\n",
    "plt.title(\"Correlation Matrix (Excluding Neighbourhood)\", fontsize=16)\n",
    "plt.show()\n"
   ]
  },
  {
   "cell_type": "code",
   "execution_count": null,
   "id": "ztWJk2DkgbY4",
   "metadata": {
    "colab": {
     "base_uri": "https://localhost:8080/",
     "height": 487
    },
    "id": "ztWJk2DkgbY4",
    "outputId": "76ea5754-f718-4251-e4ae-6b09ee9b85ec"
   },
   "outputs": [
    {
     "data": {
      "image/png": "[encoded data removed]",
      "text/plain": [
       "<Figure size 800x500 with 1 Axes>"
      ]
     },
     "metadata": {},
     "output_type": "display_data"
    }
   ],
   "source": [
    "# Extract relevant insights\n",
    "show_rate_by_day = data.groupby('AppointmentDay_DayOfWeek')['Showed_up'].mean()\n",
    "plt.figure(figsize=(8, 5))\n",
    "sns.lineplot(x=show_rate_by_day.index, y=show_rate_by_day.values, marker='o')\n",
    "plt.title(\"Show-Up Rate by Day of the Week\")\n",
    "plt.xlabel(\"Day of the Week\")\n",
    "plt.ylabel(\"Show-Up Rate\")\n",
    "plt.xticks(range(7), ['Mon', 'Tue', 'Wed', 'Thu', 'Fri', 'Sat', 'Sun'])\n",
    "plt.show()"
   ]
  },
  {
   "cell_type": "code",
   "execution_count": null,
   "id": "US2uHKjigbWH",
   "metadata": {
    "colab": {
     "base_uri": "https://localhost:8080/",
     "height": 671
    },
    "id": "US2uHKjigbWH",
    "outputId": "fe36f3fa-91aa-4cdd-a581-ed82278d57b1"
   },
   "outputs": [
    {
     "name": "stderr",
     "output_type": "stream",
     "text": [
      "C:\\Users\\user\\AppData\\Local\\Temp\\ipykernel_10528\\98524422.py:3: FutureWarning: \n",
      "\n",
      "Passing `palette` without assigning `hue` is deprecated and will be removed in v0.14.0. Assign the `x` variable to `hue` and set `legend=False` for the same effect.\n",
      "\n",
      "  sns.boxplot(x='Showed_up', y='Age', data=data, palette=\"Set3\")\n"
     ]
    },
    {
     "data": {
      "image/png": "[encoded data removed]",
      "text/plain": [
       "<Figure size 1000x600 with 1 Axes>"
      ]
     },
     "metadata": {},
     "output_type": "display_data"
    }
   ],
   "source": [
    "# Insights from Age and Medical Conditions\n",
    "plt.figure(figsize=(10, 6))\n",
    "sns.boxplot(x='Showed_up', y='Age', data=data, palette=\"Set3\")\n",
    "plt.title(\"Age vs. Show-Up Status\")\n",
    "plt.xlabel(\"Show-Up Status\")\n",
    "plt.ylabel(\"Age\")\n",
    "plt.xticks([0, 1], ['No-show', 'Showed'])\n",
    "plt.show()"
   ]
  },
  {
   "cell_type": "code",
   "execution_count": null,
   "id": "Lpn87vSpgqVe",
   "metadata": {
    "id": "Lpn87vSpgqVe"
   },
   "outputs": [],
   "source": [
    "scaler = StandardScaler()"
   ]
  },
  {
   "cell_type": "code",
   "execution_count": null,
   "id": "Am3_sgzvgqJB",
   "metadata": {
    "id": "Am3_sgzvgqJB"
   },
   "outputs": [],
   "source": [
    "# Initialize the StandardScaler\n",
    "scaler = StandardScaler()\n"
   ]
  },
  {
   "cell_type": "code",
   "execution_count": null,
   "id": "4YREtUg8gqCu",
   "metadata": {
    "colab": {
     "base_uri": "https://localhost:8080/"
    },
    "id": "4YREtUg8gqCu",
    "outputId": "eb4c24b7-69f1-4093-c6e6-7799884b2ef2"
   },
   "outputs": [
    {
     "data": {
      "text/plain": [
       "Index(['ScheduledDay', 'AppointmentDay', 'Age', 'Scholarship', 'Hypertension',\n",
       "       'Diabetes', 'Alcoholism', 'Handicap', 'SMS_received', 'Showed_up',\n",
       "       'Date.diff', 'Gender_M', 'ScheduledDay_DayOfWeek',\n",
       "       'AppointmentDay_DayOfWeek'],\n",
       "      dtype='object')"
      ]
     },
     "execution_count": 108,
     "metadata": {},
     "output_type": "execute_result"
    }
   ],
   "source": [
    "# Drop the Neighbourhood column\n",
    "data_without_neighbourhood.columns"
   ]
  },
  {
   "cell_type": "code",
   "execution_count": null,
   "id": "PzcHIvJSgp_k",
   "metadata": {
    "id": "PzcHIvJSgp_k"
   },
   "outputs": [],
   "source": [
    "import pandas as pd\n",
    "\n",
    "\n",
    "# Define the features (X) and target variable (y)\n",
    "X = data[['Age', 'Scholarship', 'Hypertension',\n",
    "          'Diabetes', 'Alcoholism', 'Handicap', 'SMS_received',\n",
    "          'Date.diff', 'Gender_M', 'ScheduledDay_DayOfWeek', 'AppointmentDay_DayOfWeek']]\n",
    "\n",
    "y = data['Showed_up']  # Target variable"
   ]
  },
  {
   "cell_type": "code",
   "execution_count": null,
   "id": "BP-fOLpCgp8n",
   "metadata": {
    "colab": {
     "base_uri": "https://localhost:8080/"
    },
    "id": "BP-fOLpCgp8n",
    "outputId": "9c38a8f5-205e-43c6-cb15-3a5d105be6d9"
   },
   "outputs": [
    {
     "name": "stdout",
     "output_type": "stream",
     "text": [
      "Age                         int64\n",
      "Scholarship                  bool\n",
      "Hypertension                 bool\n",
      "Diabetes                     bool\n",
      "Alcoholism                   bool\n",
      "Handicap                     bool\n",
      "SMS_received                 bool\n",
      "Date.diff                   int64\n",
      "Gender_M                     bool\n",
      "ScheduledDay_DayOfWeek      int32\n",
      "AppointmentDay_DayOfWeek    int32\n",
      "dtype: object\n"
     ]
    }
   ],
   "source": [
    "print(X.dtypes)"
   ]
  },
  {
   "cell_type": "code",
   "execution_count": null,
   "id": "f-s74ltQh79Q",
   "metadata": {
    "id": "f-s74ltQh79Q"
   },
   "outputs": [],
   "source": [
    "# Split the data into training and testing sets (80% training, 20% testing)\n",
    "X_train, X_test, y_train, y_test = train_test_split(X, y, test_size=0.2, random_state=42)\n",
    "\n"
   ]
  },
  {
   "cell_type": "code",
   "execution_count": null,
   "id": "1CWtVt0Rh75w",
   "metadata": {
    "colab": {
     "base_uri": "https://localhost:8080/"
    },
    "id": "1CWtVt0Rh75w",
    "outputId": "23c0fda7-850c-4206-b955-bcad6bcbf530"
   },
   "outputs": [
    {
     "name": "stdout",
     "output_type": "stream",
     "text": [
      "Training data size: (85589, 11)\n",
      "Testing data size: (21398, 11)\n"
     ]
    }
   ],
   "source": [
    "print(\"Training data size:\", X_train.shape)\n",
    "print(\"Testing data size:\", X_test.shape)"
   ]
  },
  {
   "cell_type": "code",
   "execution_count": null,
   "id": "1gSZD7W1h73O",
   "metadata": {
    "id": "1gSZD7W1h73O"
   },
   "outputs": [],
   "source": [
    "import pandas as pd\n",
    "import numpy as np\n",
    "from sklearn.model_selection import train_test_split\n",
    "from sklearn.ensemble import RandomForestClassifier\n",
    "from sklearn.metrics import accuracy_score, classification_report\n",
    "import matplotlib.pyplot as plt\n",
    "import seaborn as sns"
   ]
  },
  {
   "cell_type": "code",
   "execution_count": null,
   "id": "PDdxCc7jh70h",
   "metadata": {
    "id": "PDdxCc7jh70h"
   },
   "outputs": [],
   "source": [
    "# Initialize the model\n",
    "model = RandomForestClassifier(random_state=42)"
   ]
  },
  {
   "cell_type": "code",
   "execution_count": null,
   "id": "BHu0fOR0h7yH",
   "metadata": {
    "colab": {
     "base_uri": "https://localhost:8080/",
     "height": 80
    },
    "id": "BHu0fOR0h7yH",
    "outputId": "aea3477b-4340-4039-f1b6-f9bf1f61eb2e"
   },
   "outputs": [
    {
     "data": {
      "text/html": [
       "<style>#sk-container-id-3 {\n",
       "  /* Definition of color scheme common for light and dark mode */\n",
       "  --sklearn-color-text: black;\n",
       "  --sklearn-color-line: gray;\n",
       "  /* Definition of color scheme for unfitted estimators */\n",
       "  --sklearn-color-unfitted-level-0: #fff5e6;\n",
       "  --sklearn-color-unfitted-level-1: #f6e4d2;\n",
       "  --sklearn-color-unfitted-level-2: #ffe0b3;\n",
       "  --sklearn-color-unfitted-level-3: chocolate;\n",
       "  /* Definition of color scheme for fitted estimators */\n",
       "  --sklearn-color-fitted-level-0: #f0f8ff;\n",
       "  --sklearn-color-fitted-level-1: #d4ebff;\n",
       "  --sklearn-color-fitted-level-2: #b3dbfd;\n",
       "  --sklearn-color-fitted-level-3: cornflowerblue;\n",
       "\n",
       "  /* Specific color for light theme */\n",
       "  --sklearn-color-text-on-default-background: var(--sg-text-color, var(--theme-code-foreground, var(--jp-content-font-color1, black)));\n",
       "  --sklearn-color-background: var(--sg-background-color, var(--theme-background, var(--jp-layout-color0, white)));\n",
       "  --sklearn-color-border-box: var(--sg-text-color, var(--theme-code-foreground, var(--jp-content-font-color1, black)));\n",
       "  --sklearn-color-icon: #696969;\n",
       "\n",
       "  @media (prefers-color-scheme: dark) {\n",
       "    /* Redefinition of color scheme for dark theme */\n",
       "    --sklearn-color-text-on-default-background: var(--sg-text-color, var(--theme-code-foreground, var(--jp-content-font-color1, white)));\n",
       "    --sklearn-color-background: var(--sg-background-color, var(--theme-background, var(--jp-layout-color0, #111)));\n",
       "    --sklearn-color-border-box: var(--sg-text-color, var(--theme-code-foreground, var(--jp-content-font-color1, white)));\n",
       "    --sklearn-color-icon: #878787;\n",
       "  }\n",
       "}\n",
       "\n",
       "#sk-container-id-3 {\n",
       "  color: var(--sklearn-color-text);\n",
       "}\n",
       "\n",
       "#sk-container-id-3 pre {\n",
       "  padding: 0;\n",
       "}\n",
       "\n",
       "#sk-container-id-3 input.sk-hidden--visually {\n",
       "  border: 0;\n",
       "  clip: rect(1px 1px 1px 1px);\n",
       "  clip: rect(1px, 1px, 1px, 1px);\n",
       "  height: 1px;\n",
       "  margin: -1px;\n",
       "  overflow: hidden;\n",
       "  padding: 0;\n",
       "  position: absolute;\n",
       "  width: 1px;\n",
       "}\n",
       "\n",
       "#sk-container-id-3 div.sk-dashed-wrapped {\n",
       "  border: 1px dashed var(--sklearn-color-line);\n",
       "  margin: 0 0.4em 0.5em 0.4em;\n",
       "  box-sizing: border-box;\n",
       "  padding-bottom: 0.4em;\n",
       "  background-color: var(--sklearn-color-background);\n",
       "}\n",
       "\n",
       "#sk-container-id-3 div.sk-container {\n",
       "  /* jupyter's `normalize.less` sets `[hidden] { display: none; }`\n",
       "     but bootstrap.min.css set `[hidden] { display: none !important; }`\n",
       "     so we also need the `!important` here to be able to override the\n",
       "     default hidden behavior on the sphinx rendered scikit-learn.org.\n",
       "     See: https://github.com/scikit-learn/scikit-learn/issues/21755 */\n",
       "  display: inline-block !important;\n",
       "  position: relative;\n",
       "}\n",
       "\n",
       "#sk-container-id-3 div.sk-text-repr-fallback {\n",
       "  display: none;\n",
       "}\n",
       "\n",
       "div.sk-parallel-item,\n",
       "div.sk-serial,\n",
       "div.sk-item {\n",
       "  /* draw centered vertical line to link estimators */\n",
       "  background-image: linear-gradient(var(--sklearn-color-text-on-default-background), var(--sklearn-color-text-on-default-background));\n",
       "  background-size: 2px 100%;\n",
       "  background-repeat: no-repeat;\n",
       "  background-position: center center;\n",
       "}\n",
       "\n",
       "/* Parallel-specific style estimator block */\n",
       "\n",
       "#sk-container-id-3 div.sk-parallel-item::after {\n",
       "  content: \"\";\n",
       "  width: 100%;\n",
       "  border-bottom: 2px solid var(--sklearn-color-text-on-default-background);\n",
       "  flex-grow: 1;\n",
       "}\n",
       "\n",
       "#sk-container-id-3 div.sk-parallel {\n",
       "  display: flex;\n",
       "  align-items: stretch;\n",
       "  justify-content: center;\n",
       "  background-color: var(--sklearn-color-background);\n",
       "  position: relative;\n",
       "}\n",
       "\n",
       "#sk-container-id-3 div.sk-parallel-item {\n",
       "  display: flex;\n",
       "  flex-direction: column;\n",
       "}\n",
       "\n",
       "#sk-container-id-3 div.sk-parallel-item:first-child::after {\n",
       "  align-self: flex-end;\n",
       "  width: 50%;\n",
       "}\n",
       "\n",
       "#sk-container-id-3 div.sk-parallel-item:last-child::after {\n",
       "  align-self: flex-start;\n",
       "  width: 50%;\n",
       "}\n",
       "\n",
       "#sk-container-id-3 div.sk-parallel-item:only-child::after {\n",
       "  width: 0;\n",
       "}\n",
       "\n",
       "/* Serial-specific style estimator block */\n",
       "\n",
       "#sk-container-id-3 div.sk-serial {\n",
       "  display: flex;\n",
       "  flex-direction: column;\n",
       "  align-items: center;\n",
       "  background-color: var(--sklearn-color-background);\n",
       "  padding-right: 1em;\n",
       "  padding-left: 1em;\n",
       "}\n",
       "\n",
       "\n",
       "/* Toggleable style: style used for estimator/Pipeline/ColumnTransformer box that is\n",
       "clickable and can be expanded/collapsed.\n",
       "- Pipeline and ColumnTransformer use this feature and define the default style\n",
       "- Estimators will overwrite some part of the style using the `sk-estimator` class\n",
       "*/\n",
       "\n",
       "/* Pipeline and ColumnTransformer style (default) */\n",
       "\n",
       "#sk-container-id-3 div.sk-toggleable {\n",
       "  /* Default theme specific background. It is overwritten whether we have a\n",
       "  specific estimator or a Pipeline/ColumnTransformer */\n",
       "  background-color: var(--sklearn-color-background);\n",
       "}\n",
       "\n",
       "/* Toggleable label */\n",
       "#sk-container-id-3 label.sk-toggleable__label {\n",
       "  cursor: pointer;\n",
       "  display: block;\n",
       "  width: 100%;\n",
       "  margin-bottom: 0;\n",
       "  padding: 0.5em;\n",
       "  box-sizing: border-box;\n",
       "  text-align: center;\n",
       "}\n",
       "\n",
       "#sk-container-id-3 label.sk-toggleable__label-arrow:before {\n",
       "  /* Arrow on the left of the label */\n",
       "  content: \"▸\";\n",
       "  float: left;\n",
       "  margin-right: 0.25em;\n",
       "  color: var(--sklearn-color-icon);\n",
       "}\n",
       "\n",
       "#sk-container-id-3 label.sk-toggleable__label-arrow:hover:before {\n",
       "  color: var(--sklearn-color-text);\n",
       "}\n",
       "\n",
       "/* Toggleable content - dropdown */\n",
       "\n",
       "#sk-container-id-3 div.sk-toggleable__content {\n",
       "  max-height: 0;\n",
       "  max-width: 0;\n",
       "  overflow: hidden;\n",
       "  text-align: left;\n",
       "  /* unfitted */\n",
       "  background-color: var(--sklearn-color-unfitted-level-0);\n",
       "}\n",
       "\n",
       "#sk-container-id-3 div.sk-toggleable__content.fitted {\n",
       "  /* fitted */\n",
       "  background-color: var(--sklearn-color-fitted-level-0);\n",
       "}\n",
       "\n",
       "#sk-container-id-3 div.sk-toggleable__content pre {\n",
       "  margin: 0.2em;\n",
       "  border-radius: 0.25em;\n",
       "  color: var(--sklearn-color-text);\n",
       "  /* unfitted */\n",
       "  background-color: var(--sklearn-color-unfitted-level-0);\n",
       "}\n",
       "\n",
       "#sk-container-id-3 div.sk-toggleable__content.fitted pre {\n",
       "  /* unfitted */\n",
       "  background-color: var(--sklearn-color-fitted-level-0);\n",
       "}\n",
       "\n",
       "#sk-container-id-3 input.sk-toggleable__control:checked~div.sk-toggleable__content {\n",
       "  /* Expand drop-down */\n",
       "  max-height: 200px;\n",
       "  max-width: 100%;\n",
       "  overflow: auto;\n",
       "}\n",
       "\n",
       "#sk-container-id-3 input.sk-toggleable__control:checked~label.sk-toggleable__label-arrow:before {\n",
       "  content: \"▾\";\n",
       "}\n",
       "\n",
       "/* Pipeline/ColumnTransformer-specific style */\n",
       "\n",
       "#sk-container-id-3 div.sk-label input.sk-toggleable__control:checked~label.sk-toggleable__label {\n",
       "  color: var(--sklearn-color-text);\n",
       "  background-color: var(--sklearn-color-unfitted-level-2);\n",
       "}\n",
       "\n",
       "#sk-container-id-3 div.sk-label.fitted input.sk-toggleable__control:checked~label.sk-toggleable__label {\n",
       "  background-color: var(--sklearn-color-fitted-level-2);\n",
       "}\n",
       "\n",
       "/* Estimator-specific style */\n",
       "\n",
       "/* Colorize estimator box */\n",
       "#sk-container-id-3 div.sk-estimator input.sk-toggleable__control:checked~label.sk-toggleable__label {\n",
       "  /* unfitted */\n",
       "  background-color: var(--sklearn-color-unfitted-level-2);\n",
       "}\n",
       "\n",
       "#sk-container-id-3 div.sk-estimator.fitted input.sk-toggleable__control:checked~label.sk-toggleable__label {\n",
       "  /* fitted */\n",
       "  background-color: var(--sklearn-color-fitted-level-2);\n",
       "}\n",
       "\n",
       "#sk-container-id-3 div.sk-label label.sk-toggleable__label,\n",
       "#sk-container-id-3 div.sk-label label {\n",
       "  /* The background is the default theme color */\n",
       "  color: var(--sklearn-color-text-on-default-background);\n",
       "}\n",
       "\n",
       "/* On hover, darken the color of the background */\n",
       "#sk-container-id-3 div.sk-label:hover label.sk-toggleable__label {\n",
       "  color: var(--sklearn-color-text);\n",
       "  background-color: var(--sklearn-color-unfitted-level-2);\n",
       "}\n",
       "\n",
       "/* Label box, darken color on hover, fitted */\n",
       "#sk-container-id-3 div.sk-label.fitted:hover label.sk-toggleable__label.fitted {\n",
       "  color: var(--sklearn-color-text);\n",
       "  background-color: var(--sklearn-color-fitted-level-2);\n",
       "}\n",
       "\n",
       "/* Estimator label */\n",
       "\n",
       "#sk-container-id-3 div.sk-label label {\n",
       "  font-family: monospace;\n",
       "  font-weight: bold;\n",
       "  display: inline-block;\n",
       "  line-height: 1.2em;\n",
       "}\n",
       "\n",
       "#sk-container-id-3 div.sk-label-container {\n",
       "  text-align: center;\n",
       "}\n",
       "\n",
       "/* Estimator-specific */\n",
       "#sk-container-id-3 div.sk-estimator {\n",
       "  font-family: monospace;\n",
       "  border: 1px dotted var(--sklearn-color-border-box);\n",
       "  border-radius: 0.25em;\n",
       "  box-sizing: border-box;\n",
       "  margin-bottom: 0.5em;\n",
       "  /* unfitted */\n",
       "  background-color: var(--sklearn-color-unfitted-level-0);\n",
       "}\n",
       "\n",
       "#sk-container-id-3 div.sk-estimator.fitted {\n",
       "  /* fitted */\n",
       "  background-color: var(--sklearn-color-fitted-level-0);\n",
       "}\n",
       "\n",
       "/* on hover */\n",
       "#sk-container-id-3 div.sk-estimator:hover {\n",
       "  /* unfitted */\n",
       "  background-color: var(--sklearn-color-unfitted-level-2);\n",
       "}\n",
       "\n",
       "#sk-container-id-3 div.sk-estimator.fitted:hover {\n",
       "  /* fitted */\n",
       "  background-color: var(--sklearn-color-fitted-level-2);\n",
       "}\n",
       "\n",
       "/* Specification for estimator info (e.g. \"i\" and \"?\") */\n",
       "\n",
       "/* Common style for \"i\" and \"?\" */\n",
       "\n",
       ".sk-estimator-doc-link,\n",
       "a:link.sk-estimator-doc-link,\n",
       "a:visited.sk-estimator-doc-link {\n",
       "  float: right;\n",
       "  font-size: smaller;\n",
       "  line-height: 1em;\n",
       "  font-family: monospace;\n",
       "  background-color: var(--sklearn-color-background);\n",
       "  border-radius: 1em;\n",
       "  height: 1em;\n",
       "  width: 1em;\n",
       "  text-decoration: none !important;\n",
       "  margin-left: 1ex;\n",
       "  /* unfitted */\n",
       "  border: var(--sklearn-color-unfitted-level-1) 1pt solid;\n",
       "  color: var(--sklearn-color-unfitted-level-1);\n",
       "}\n",
       "\n",
       ".sk-estimator-doc-link.fitted,\n",
       "a:link.sk-estimator-doc-link.fitted,\n",
       "a:visited.sk-estimator-doc-link.fitted {\n",
       "  /* fitted */\n",
       "  border: var(--sklearn-color-fitted-level-1) 1pt solid;\n",
       "  color: var(--sklearn-color-fitted-level-1);\n",
       "}\n",
       "\n",
       "/* On hover */\n",
       "div.sk-estimator:hover .sk-estimator-doc-link:hover,\n",
       ".sk-estimator-doc-link:hover,\n",
       "div.sk-label-container:hover .sk-estimator-doc-link:hover,\n",
       ".sk-estimator-doc-link:hover {\n",
       "  /* unfitted */\n",
       "  background-color: var(--sklearn-color-unfitted-level-3);\n",
       "  color: var(--sklearn-color-background);\n",
       "  text-decoration: none;\n",
       "}\n",
       "\n",
       "div.sk-estimator.fitted:hover .sk-estimator-doc-link.fitted:hover,\n",
       ".sk-estimator-doc-link.fitted:hover,\n",
       "div.sk-label-container:hover .sk-estimator-doc-link.fitted:hover,\n",
       ".sk-estimator-doc-link.fitted:hover {\n",
       "  /* fitted */\n",
       "  background-color: var(--sklearn-color-fitted-level-3);\n",
       "  color: var(--sklearn-color-background);\n",
       "  text-decoration: none;\n",
       "}\n",
       "\n",
       "/* Span, style for the box shown on hovering the info icon */\n",
       ".sk-estimator-doc-link span {\n",
       "  display: none;\n",
       "  z-index: 9999;\n",
       "  position: relative;\n",
       "  font-weight: normal;\n",
       "  right: .2ex;\n",
       "  padding: .5ex;\n",
       "  margin: .5ex;\n",
       "  width: min-content;\n",
       "  min-width: 20ex;\n",
       "  max-width: 50ex;\n",
       "  color: var(--sklearn-color-text);\n",
       "  box-shadow: 2pt 2pt 4pt #999;\n",
       "  /* unfitted */\n",
       "  background: var(--sklearn-color-unfitted-level-0);\n",
       "  border: .5pt solid var(--sklearn-color-unfitted-level-3);\n",
       "}\n",
       "\n",
       ".sk-estimator-doc-link.fitted span {\n",
       "  /* fitted */\n",
       "  background: var(--sklearn-color-fitted-level-0);\n",
       "  border: var(--sklearn-color-fitted-level-3);\n",
       "}\n",
       "\n",
       ".sk-estimator-doc-link:hover span {\n",
       "  display: block;\n",
       "}\n",
       "\n",
       "/* \"?\"-specific style due to the `<a>` HTML tag */\n",
       "\n",
       "#sk-container-id-3 a.estimator_doc_link {\n",
       "  float: right;\n",
       "  font-size: 1rem;\n",
       "  line-height: 1em;\n",
       "  font-family: monospace;\n",
       "  background-color: var(--sklearn-color-background);\n",
       "  border-radius: 1rem;\n",
       "  height: 1rem;\n",
       "  width: 1rem;\n",
       "  text-decoration: none;\n",
       "  /* unfitted */\n",
       "  color: var(--sklearn-color-unfitted-level-1);\n",
       "  border: var(--sklearn-color-unfitted-level-1) 1pt solid;\n",
       "}\n",
       "\n",
       "#sk-container-id-3 a.estimator_doc_link.fitted {\n",
       "  /* fitted */\n",
       "  border: var(--sklearn-color-fitted-level-1) 1pt solid;\n",
       "  color: var(--sklearn-color-fitted-level-1);\n",
       "}\n",
       "\n",
       "/* On hover */\n",
       "#sk-container-id-3 a.estimator_doc_link:hover {\n",
       "  /* unfitted */\n",
       "  background-color: var(--sklearn-color-unfitted-level-3);\n",
       "  color: var(--sklearn-color-background);\n",
       "  text-decoration: none;\n",
       "}\n",
       "\n",
       "#sk-container-id-3 a.estimator_doc_link.fitted:hover {\n",
       "  /* fitted */\n",
       "  background-color: var(--sklearn-color-fitted-level-3);\n",
       "}\n",
       "</style><div id=\"sk-container-id-3\" class=\"sk-top-container\"><div class=\"sk-text-repr-fallback\"><pre>RandomForestClassifier(random_state=42)</pre><b>In a Jupyter environment, please rerun this cell to show the HTML representation or trust the notebook. <br />On GitHub, the HTML representation is unable to render, please try loading this page with nbviewer.org.</b></div><div class=\"sk-container\" hidden><div class=\"sk-item\"><div class=\"sk-estimator fitted sk-toggleable\"><input class=\"sk-toggleable__control sk-hidden--visually\" id=\"sk-estimator-id-3\" type=\"checkbox\" checked><label for=\"sk-estimator-id-3\" class=\"sk-toggleable__label fitted sk-toggleable__label-arrow fitted\">&nbsp;&nbsp;RandomForestClassifier<a class=\"sk-estimator-doc-link fitted\" rel=\"noreferrer\" target=\"_blank\" href=\"https://scikit-learn.org/1.4/modules/generated/sklearn.ensemble.RandomForestClassifier.html\">?<span>Documentation for RandomForestClassifier</span></a><span class=\"sk-estimator-doc-link fitted\">i<span>Fitted</span></span></label><div class=\"sk-toggleable__content fitted\"><pre>RandomForestClassifier(random_state=42)</pre></div> </div></div></div></div>"
      ],
      "text/plain": [
       "RandomForestClassifier(random_state=42)"
      ]
     },
     "execution_count": 115,
     "metadata": {},
     "output_type": "execute_result"
    }
   ],
   "source": [
    "model.fit(X_train, y_train)"
   ]
  },
  {
   "cell_type": "code",
   "execution_count": null,
   "id": "ryELq19wh7ve",
   "metadata": {
    "id": "ryELq19wh7ve"
   },
   "outputs": [],
   "source": [
    "# Make predictions\n",
    "y_pred = model.predict(X_test)"
   ]
  },
  {
   "cell_type": "code",
   "execution_count": null,
   "id": "t3AgsBUEh7s2",
   "metadata": {
    "colab": {
     "base_uri": "https://localhost:8080/"
    },
    "id": "t3AgsBUEh7s2",
    "outputId": "83a4c053-ed8f-45b6-dfe8-2ef420b63bac"
   },
   "outputs": [
    {
     "name": "stdout",
     "output_type": "stream",
     "text": [
      "Accuracy: 0.7613795681839425\n",
      "Classification Report:\n",
      "               precision    recall  f1-score   support\n",
      "\n",
      "       False       0.36      0.23      0.28      4325\n",
      "        True       0.82      0.90      0.86     17073\n",
      "\n",
      "    accuracy                           0.76     21398\n",
      "   macro avg       0.59      0.56      0.57     21398\n",
      "weighted avg       0.73      0.76      0.74     21398\n",
      "\n"
     ]
    }
   ],
   "source": [
    "# Evaluate performance\n",
    "accuracy = accuracy_score(y_test, y_pred)\n",
    "print(\"Accuracy:\", accuracy)\n",
    "\n",
    "# Detailed classification report\n",
    "print(\"Classification Report:\\n\", classification_report(y_test, y_pred))"
   ]
  },
  {
   "cell_type": "code",
   "execution_count": null,
   "id": "YVqOfgqAh7nT",
   "metadata": {
    "colab": {
     "base_uri": "https://localhost:8080/",
     "height": 564
    },
    "id": "YVqOfgqAh7nT",
    "outputId": "97cce6c3-7004-4985-931f-7d77019fefb0"
   },
   "outputs": [
    {
     "data": {
      "image/png": "[encoded data removed]",
      "text/plain": [
       "<Figure size 1000x600 with 1 Axes>"
      ]
     },
     "metadata": {},
     "output_type": "display_data"
    }
   ],
   "source": [
    "# Plot feature importance\n",
    "importance = model.feature_importances_\n",
    "feature_names = X.columns\n",
    "\n",
    "plt.figure(figsize=(10, 6))\n",
    "sns.barplot(x=importance, y=feature_names)\n",
    "plt.title(\"Feature Importance\")\n",
    "plt.xlabel(\"Importance\")\n",
    "plt.ylabel(\"Features\")\n",
    "plt.show()"
   ]
  },
  {
   "cell_type": "code",
   "execution_count": null,
   "id": "RD0_XV38h7Z-",
   "metadata": {
    "id": "RD0_XV38h7Z-"
   },
   "outputs": [],
   "source": [
    "# Initialize KNN\n",
    "knn_model = KNeighborsClassifier(n_neighbors=5)"
   ]
  },
  {
   "cell_type": "code",
   "execution_count": null,
   "id": "-6680e44h7XL",
   "metadata": {
    "colab": {
     "base_uri": "https://localhost:8080/",
     "height": 80
    },
    "id": "-6680e44h7XL",
    "outputId": "24b165fa-b197-4a80-b9fc-1ac5be70e900"
   },
   "outputs": [
    {
     "data": {
      "text/html": [
       "<style>#sk-container-id-4 {\n",
       "  /* Definition of color scheme common for light and dark mode */\n",
       "  --sklearn-color-text: black;\n",
       "  --sklearn-color-line: gray;\n",
       "  /* Definition of color scheme for unfitted estimators */\n",
       "  --sklearn-color-unfitted-level-0: #fff5e6;\n",
       "  --sklearn-color-unfitted-level-1: #f6e4d2;\n",
       "  --sklearn-color-unfitted-level-2: #ffe0b3;\n",
       "  --sklearn-color-unfitted-level-3: chocolate;\n",
       "  /* Definition of color scheme for fitted estimators */\n",
       "  --sklearn-color-fitted-level-0: #f0f8ff;\n",
       "  --sklearn-color-fitted-level-1: #d4ebff;\n",
       "  --sklearn-color-fitted-level-2: #b3dbfd;\n",
       "  --sklearn-color-fitted-level-3: cornflowerblue;\n",
       "\n",
       "  /* Specific color for light theme */\n",
       "  --sklearn-color-text-on-default-background: var(--sg-text-color, var(--theme-code-foreground, var(--jp-content-font-color1, black)));\n",
       "  --sklearn-color-background: var(--sg-background-color, var(--theme-background, var(--jp-layout-color0, white)));\n",
       "  --sklearn-color-border-box: var(--sg-text-color, var(--theme-code-foreground, var(--jp-content-font-color1, black)));\n",
       "  --sklearn-color-icon: #696969;\n",
       "\n",
       "  @media (prefers-color-scheme: dark) {\n",
       "    /* Redefinition of color scheme for dark theme */\n",
       "    --sklearn-color-text-on-default-background: var(--sg-text-color, var(--theme-code-foreground, var(--jp-content-font-color1, white)));\n",
       "    --sklearn-color-background: var(--sg-background-color, var(--theme-background, var(--jp-layout-color0, #111)));\n",
       "    --sklearn-color-border-box: var(--sg-text-color, var(--theme-code-foreground, var(--jp-content-font-color1, white)));\n",
       "    --sklearn-color-icon: #878787;\n",
       "  }\n",
       "}\n",
       "\n",
       "#sk-container-id-4 {\n",
       "  color: var(--sklearn-color-text);\n",
       "}\n",
       "\n",
       "#sk-container-id-4 pre {\n",
       "  padding: 0;\n",
       "}\n",
       "\n",
       "#sk-container-id-4 input.sk-hidden--visually {\n",
       "  border: 0;\n",
       "  clip: rect(1px 1px 1px 1px);\n",
       "  clip: rect(1px, 1px, 1px, 1px);\n",
       "  height: 1px;\n",
       "  margin: -1px;\n",
       "  overflow: hidden;\n",
       "  padding: 0;\n",
       "  position: absolute;\n",
       "  width: 1px;\n",
       "}\n",
       "\n",
       "#sk-container-id-4 div.sk-dashed-wrapped {\n",
       "  border: 1px dashed var(--sklearn-color-line);\n",
       "  margin: 0 0.4em 0.5em 0.4em;\n",
       "  box-sizing: border-box;\n",
       "  padding-bottom: 0.4em;\n",
       "  background-color: var(--sklearn-color-background);\n",
       "}\n",
       "\n",
       "#sk-container-id-4 div.sk-container {\n",
       "  /* jupyter's `normalize.less` sets `[hidden] { display: none; }`\n",
       "     but bootstrap.min.css set `[hidden] { display: none !important; }`\n",
       "     so we also need the `!important` here to be able to override the\n",
       "     default hidden behavior on the sphinx rendered scikit-learn.org.\n",
       "     See: https://github.com/scikit-learn/scikit-learn/issues/21755 */\n",
       "  display: inline-block !important;\n",
       "  position: relative;\n",
       "}\n",
       "\n",
       "#sk-container-id-4 div.sk-text-repr-fallback {\n",
       "  display: none;\n",
       "}\n",
       "\n",
       "div.sk-parallel-item,\n",
       "div.sk-serial,\n",
       "div.sk-item {\n",
       "  /* draw centered vertical line to link estimators */\n",
       "  background-image: linear-gradient(var(--sklearn-color-text-on-default-background), var(--sklearn-color-text-on-default-background));\n",
       "  background-size: 2px 100%;\n",
       "  background-repeat: no-repeat;\n",
       "  background-position: center center;\n",
       "}\n",
       "\n",
       "/* Parallel-specific style estimator block */\n",
       "\n",
       "#sk-container-id-4 div.sk-parallel-item::after {\n",
       "  content: \"\";\n",
       "  width: 100%;\n",
       "  border-bottom: 2px solid var(--sklearn-color-text-on-default-background);\n",
       "  flex-grow: 1;\n",
       "}\n",
       "\n",
       "#sk-container-id-4 div.sk-parallel {\n",
       "  display: flex;\n",
       "  align-items: stretch;\n",
       "  justify-content: center;\n",
       "  background-color: var(--sklearn-color-background);\n",
       "  position: relative;\n",
       "}\n",
       "\n",
       "#sk-container-id-4 div.sk-parallel-item {\n",
       "  display: flex;\n",
       "  flex-direction: column;\n",
       "}\n",
       "\n",
       "#sk-container-id-4 div.sk-parallel-item:first-child::after {\n",
       "  align-self: flex-end;\n",
       "  width: 50%;\n",
       "}\n",
       "\n",
       "#sk-container-id-4 div.sk-parallel-item:last-child::after {\n",
       "  align-self: flex-start;\n",
       "  width: 50%;\n",
       "}\n",
       "\n",
       "#sk-container-id-4 div.sk-parallel-item:only-child::after {\n",
       "  width: 0;\n",
       "}\n",
       "\n",
       "/* Serial-specific style estimator block */\n",
       "\n",
       "#sk-container-id-4 div.sk-serial {\n",
       "  display: flex;\n",
       "  flex-direction: column;\n",
       "  align-items: center;\n",
       "  background-color: var(--sklearn-color-background);\n",
       "  padding-right: 1em;\n",
       "  padding-left: 1em;\n",
       "}\n",
       "\n",
       "\n",
       "/* Toggleable style: style used for estimator/Pipeline/ColumnTransformer box that is\n",
       "clickable and can be expanded/collapsed.\n",
       "- Pipeline and ColumnTransformer use this feature and define the default style\n",
       "- Estimators will overwrite some part of the style using the `sk-estimator` class\n",
       "*/\n",
       "\n",
       "/* Pipeline and ColumnTransformer style (default) */\n",
       "\n",
       "#sk-container-id-4 div.sk-toggleable {\n",
       "  /* Default theme specific background. It is overwritten whether we have a\n",
       "  specific estimator or a Pipeline/ColumnTransformer */\n",
       "  background-color: var(--sklearn-color-background);\n",
       "}\n",
       "\n",
       "/* Toggleable label */\n",
       "#sk-container-id-4 label.sk-toggleable__label {\n",
       "  cursor: pointer;\n",
       "  display: block;\n",
       "  width: 100%;\n",
       "  margin-bottom: 0;\n",
       "  padding: 0.5em;\n",
       "  box-sizing: border-box;\n",
       "  text-align: center;\n",
       "}\n",
       "\n",
       "#sk-container-id-4 label.sk-toggleable__label-arrow:before {\n",
       "  /* Arrow on the left of the label */\n",
       "  content: \"▸\";\n",
       "  float: left;\n",
       "  margin-right: 0.25em;\n",
       "  color: var(--sklearn-color-icon);\n",
       "}\n",
       "\n",
       "#sk-container-id-4 label.sk-toggleable__label-arrow:hover:before {\n",
       "  color: var(--sklearn-color-text);\n",
       "}\n",
       "\n",
       "/* Toggleable content - dropdown */\n",
       "\n",
       "#sk-container-id-4 div.sk-toggleable__content {\n",
       "  max-height: 0;\n",
       "  max-width: 0;\n",
       "  overflow: hidden;\n",
       "  text-align: left;\n",
       "  /* unfitted */\n",
       "  background-color: var(--sklearn-color-unfitted-level-0);\n",
       "}\n",
       "\n",
       "#sk-container-id-4 div.sk-toggleable__content.fitted {\n",
       "  /* fitted */\n",
       "  background-color: var(--sklearn-color-fitted-level-0);\n",
       "}\n",
       "\n",
       "#sk-container-id-4 div.sk-toggleable__content pre {\n",
       "  margin: 0.2em;\n",
       "  border-radius: 0.25em;\n",
       "  color: var(--sklearn-color-text);\n",
       "  /* unfitted */\n",
       "  background-color: var(--sklearn-color-unfitted-level-0);\n",
       "}\n",
       "\n",
       "#sk-container-id-4 div.sk-toggleable__content.fitted pre {\n",
       "  /* unfitted */\n",
       "  background-color: var(--sklearn-color-fitted-level-0);\n",
       "}\n",
       "\n",
       "#sk-container-id-4 input.sk-toggleable__control:checked~div.sk-toggleable__content {\n",
       "  /* Expand drop-down */\n",
       "  max-height: 200px;\n",
       "  max-width: 100%;\n",
       "  overflow: auto;\n",
       "}\n",
       "\n",
       "#sk-container-id-4 input.sk-toggleable__control:checked~label.sk-toggleable__label-arrow:before {\n",
       "  content: \"▾\";\n",
       "}\n",
       "\n",
       "/* Pipeline/ColumnTransformer-specific style */\n",
       "\n",
       "#sk-container-id-4 div.sk-label input.sk-toggleable__control:checked~label.sk-toggleable__label {\n",
       "  color: var(--sklearn-color-text);\n",
       "  background-color: var(--sklearn-color-unfitted-level-2);\n",
       "}\n",
       "\n",
       "#sk-container-id-4 div.sk-label.fitted input.sk-toggleable__control:checked~label.sk-toggleable__label {\n",
       "  background-color: var(--sklearn-color-fitted-level-2);\n",
       "}\n",
       "\n",
       "/* Estimator-specific style */\n",
       "\n",
       "/* Colorize estimator box */\n",
       "#sk-container-id-4 div.sk-estimator input.sk-toggleable__control:checked~label.sk-toggleable__label {\n",
       "  /* unfitted */\n",
       "  background-color: var(--sklearn-color-unfitted-level-2);\n",
       "}\n",
       "\n",
       "#sk-container-id-4 div.sk-estimator.fitted input.sk-toggleable__control:checked~label.sk-toggleable__label {\n",
       "  /* fitted */\n",
       "  background-color: var(--sklearn-color-fitted-level-2);\n",
       "}\n",
       "\n",
       "#sk-container-id-4 div.sk-label label.sk-toggleable__label,\n",
       "#sk-container-id-4 div.sk-label label {\n",
       "  /* The background is the default theme color */\n",
       "  color: var(--sklearn-color-text-on-default-background);\n",
       "}\n",
       "\n",
       "/* On hover, darken the color of the background */\n",
       "#sk-container-id-4 div.sk-label:hover label.sk-toggleable__label {\n",
       "  color: var(--sklearn-color-text);\n",
       "  background-color: var(--sklearn-color-unfitted-level-2);\n",
       "}\n",
       "\n",
       "/* Label box, darken color on hover, fitted */\n",
       "#sk-container-id-4 div.sk-label.fitted:hover label.sk-toggleable__label.fitted {\n",
       "  color: var(--sklearn-color-text);\n",
       "  background-color: var(--sklearn-color-fitted-level-2);\n",
       "}\n",
       "\n",
       "/* Estimator label */\n",
       "\n",
       "#sk-container-id-4 div.sk-label label {\n",
       "  font-family: monospace;\n",
       "  font-weight: bold;\n",
       "  display: inline-block;\n",
       "  line-height: 1.2em;\n",
       "}\n",
       "\n",
       "#sk-container-id-4 div.sk-label-container {\n",
       "  text-align: center;\n",
       "}\n",
       "\n",
       "/* Estimator-specific */\n",
       "#sk-container-id-4 div.sk-estimator {\n",
       "  font-family: monospace;\n",
       "  border: 1px dotted var(--sklearn-color-border-box);\n",
       "  border-radius: 0.25em;\n",
       "  box-sizing: border-box;\n",
       "  margin-bottom: 0.5em;\n",
       "  /* unfitted */\n",
       "  background-color: var(--sklearn-color-unfitted-level-0);\n",
       "}\n",
       "\n",
       "#sk-container-id-4 div.sk-estimator.fitted {\n",
       "  /* fitted */\n",
       "  background-color: var(--sklearn-color-fitted-level-0);\n",
       "}\n",
       "\n",
       "/* on hover */\n",
       "#sk-container-id-4 div.sk-estimator:hover {\n",
       "  /* unfitted */\n",
       "  background-color: var(--sklearn-color-unfitted-level-2);\n",
       "}\n",
       "\n",
       "#sk-container-id-4 div.sk-estimator.fitted:hover {\n",
       "  /* fitted */\n",
       "  background-color: var(--sklearn-color-fitted-level-2);\n",
       "}\n",
       "\n",
       "/* Specification for estimator info (e.g. \"i\" and \"?\") */\n",
       "\n",
       "/* Common style for \"i\" and \"?\" */\n",
       "\n",
       ".sk-estimator-doc-link,\n",
       "a:link.sk-estimator-doc-link,\n",
       "a:visited.sk-estimator-doc-link {\n",
       "  float: right;\n",
       "  font-size: smaller;\n",
       "  line-height: 1em;\n",
       "  font-family: monospace;\n",
       "  background-color: var(--sklearn-color-background);\n",
       "  border-radius: 1em;\n",
       "  height: 1em;\n",
       "  width: 1em;\n",
       "  text-decoration: none !important;\n",
       "  margin-left: 1ex;\n",
       "  /* unfitted */\n",
       "  border: var(--sklearn-color-unfitted-level-1) 1pt solid;\n",
       "  color: var(--sklearn-color-unfitted-level-1);\n",
       "}\n",
       "\n",
       ".sk-estimator-doc-link.fitted,\n",
       "a:link.sk-estimator-doc-link.fitted,\n",
       "a:visited.sk-estimator-doc-link.fitted {\n",
       "  /* fitted */\n",
       "  border: var(--sklearn-color-fitted-level-1) 1pt solid;\n",
       "  color: var(--sklearn-color-fitted-level-1);\n",
       "}\n",
       "\n",
       "/* On hover */\n",
       "div.sk-estimator:hover .sk-estimator-doc-link:hover,\n",
       ".sk-estimator-doc-link:hover,\n",
       "div.sk-label-container:hover .sk-estimator-doc-link:hover,\n",
       ".sk-estimator-doc-link:hover {\n",
       "  /* unfitted */\n",
       "  background-color: var(--sklearn-color-unfitted-level-3);\n",
       "  color: var(--sklearn-color-background);\n",
       "  text-decoration: none;\n",
       "}\n",
       "\n",
       "div.sk-estimator.fitted:hover .sk-estimator-doc-link.fitted:hover,\n",
       ".sk-estimator-doc-link.fitted:hover,\n",
       "div.sk-label-container:hover .sk-estimator-doc-link.fitted:hover,\n",
       ".sk-estimator-doc-link.fitted:hover {\n",
       "  /* fitted */\n",
       "  background-color: var(--sklearn-color-fitted-level-3);\n",
       "  color: var(--sklearn-color-background);\n",
       "  text-decoration: none;\n",
       "}\n",
       "\n",
       "/* Span, style for the box shown on hovering the info icon */\n",
       ".sk-estimator-doc-link span {\n",
       "  display: none;\n",
       "  z-index: 9999;\n",
       "  position: relative;\n",
       "  font-weight: normal;\n",
       "  right: .2ex;\n",
       "  padding: .5ex;\n",
       "  margin: .5ex;\n",
       "  width: min-content;\n",
       "  min-width: 20ex;\n",
       "  max-width: 50ex;\n",
       "  color: var(--sklearn-color-text);\n",
       "  box-shadow: 2pt 2pt 4pt #999;\n",
       "  /* unfitted */\n",
       "  background: var(--sklearn-color-unfitted-level-0);\n",
       "  border: .5pt solid var(--sklearn-color-unfitted-level-3);\n",
       "}\n",
       "\n",
       ".sk-estimator-doc-link.fitted span {\n",
       "  /* fitted */\n",
       "  background: var(--sklearn-color-fitted-level-0);\n",
       "  border: var(--sklearn-color-fitted-level-3);\n",
       "}\n",
       "\n",
       ".sk-estimator-doc-link:hover span {\n",
       "  display: block;\n",
       "}\n",
       "\n",
       "/* \"?\"-specific style due to the `<a>` HTML tag */\n",
       "\n",
       "#sk-container-id-4 a.estimator_doc_link {\n",
       "  float: right;\n",
       "  font-size: 1rem;\n",
       "  line-height: 1em;\n",
       "  font-family: monospace;\n",
       "  background-color: var(--sklearn-color-background);\n",
       "  border-radius: 1rem;\n",
       "  height: 1rem;\n",
       "  width: 1rem;\n",
       "  text-decoration: none;\n",
       "  /* unfitted */\n",
       "  color: var(--sklearn-color-unfitted-level-1);\n",
       "  border: var(--sklearn-color-unfitted-level-1) 1pt solid;\n",
       "}\n",
       "\n",
       "#sk-container-id-4 a.estimator_doc_link.fitted {\n",
       "  /* fitted */\n",
       "  border: var(--sklearn-color-fitted-level-1) 1pt solid;\n",
       "  color: var(--sklearn-color-fitted-level-1);\n",
       "}\n",
       "\n",
       "/* On hover */\n",
       "#sk-container-id-4 a.estimator_doc_link:hover {\n",
       "  /* unfitted */\n",
       "  background-color: var(--sklearn-color-unfitted-level-3);\n",
       "  color: var(--sklearn-color-background);\n",
       "  text-decoration: none;\n",
       "}\n",
       "\n",
       "#sk-container-id-4 a.estimator_doc_link.fitted:hover {\n",
       "  /* fitted */\n",
       "  background-color: var(--sklearn-color-fitted-level-3);\n",
       "}\n",
       "</style><div id=\"sk-container-id-4\" class=\"sk-top-container\"><div class=\"sk-text-repr-fallback\"><pre>KNeighborsClassifier()</pre><b>In a Jupyter environment, please rerun this cell to show the HTML representation or trust the notebook. <br />On GitHub, the HTML representation is unable to render, please try loading this page with nbviewer.org.</b></div><div class=\"sk-container\" hidden><div class=\"sk-item\"><div class=\"sk-estimator fitted sk-toggleable\"><input class=\"sk-toggleable__control sk-hidden--visually\" id=\"sk-estimator-id-4\" type=\"checkbox\" checked><label for=\"sk-estimator-id-4\" class=\"sk-toggleable__label fitted sk-toggleable__label-arrow fitted\">&nbsp;&nbsp;KNeighborsClassifier<a class=\"sk-estimator-doc-link fitted\" rel=\"noreferrer\" target=\"_blank\" href=\"https://scikit-learn.org/1.4/modules/generated/sklearn.neighbors.KNeighborsClassifier.html\">?<span>Documentation for KNeighborsClassifier</span></a><span class=\"sk-estimator-doc-link fitted\">i<span>Fitted</span></span></label><div class=\"sk-toggleable__content fitted\"><pre>KNeighborsClassifier()</pre></div> </div></div></div></div>"
      ],
      "text/plain": [
       "KNeighborsClassifier()"
      ]
     },
     "execution_count": 120,
     "metadata": {},
     "output_type": "execute_result"
    }
   ],
   "source": [
    "# Train the model\n",
    "knn_model.fit(X_train, y_train)"
   ]
  },
  {
   "cell_type": "code",
   "execution_count": null,
   "id": "HT2Y9aRxiwMG",
   "metadata": {
    "id": "HT2Y9aRxiwMG"
   },
   "outputs": [],
   "source": [
    "# Predict\n",
    "y_pred_knn = knn_model.predict(X_test)"
   ]
  },
  {
   "cell_type": "code",
   "execution_count": null,
   "id": "21rxUZJHihf1",
   "metadata": {
    "colab": {
     "base_uri": "https://localhost:8080/"
    },
    "id": "21rxUZJHihf1",
    "outputId": "d90b19aa-00ff-4df7-b178-91551305bc24"
   },
   "outputs": [
    {
     "name": "stdout",
     "output_type": "stream",
     "text": [
      "K-Nearest Neighbors\n",
      "Accuracy: 0.764791101972147\n",
      "Classification Report:\n",
      "               precision    recall  f1-score   support\n",
      "\n",
      "       False       0.34      0.18      0.23      4325\n",
      "        True       0.81      0.91      0.86     17073\n",
      "\n",
      "    accuracy                           0.76     21398\n",
      "   macro avg       0.58      0.55      0.55     21398\n",
      "weighted avg       0.72      0.76      0.73     21398\n",
      "\n"
     ]
    }
   ],
   "source": [
    "# Evaluate\n",
    "print(\"K-Nearest Neighbors\")\n",
    "print(\"Accuracy:\", accuracy_score(y_test, y_pred_knn))\n",
    "print(\"Classification Report:\\n\", classification_report(y_test, y_pred_knn))\n"
   ]
  },
  {
   "cell_type": "code",
   "execution_count": null,
   "id": "MpKMpV21ihcO",
   "metadata": {
    "colab": {
     "base_uri": "https://localhost:8080/"
    },
    "id": "MpKMpV21ihcO",
    "outputId": "4f943cb0-34b5-4dde-9d94-b48b74460ae8"
   },
   "outputs": [
    {
     "name": "stdout",
     "output_type": "stream",
     "text": [
      "Gradient Boosting\n",
      "Accuracy: 0.7980652397420319\n",
      "Classification Report:\n",
      "               precision    recall  f1-score   support\n",
      "\n",
      "       False       0.58      0.00      0.01      4325\n",
      "        True       0.80      1.00      0.89     17073\n",
      "\n",
      "    accuracy                           0.80     21398\n",
      "   macro avg       0.69      0.50      0.45     21398\n",
      "weighted avg       0.75      0.80      0.71     21398\n",
      "\n"
     ]
    }
   ],
   "source": [
    "# Initialize Gradient Boosting\n",
    "gb_model = GradientBoostingClassifier(random_state=42)\n",
    "\n",
    "# Train the model\n",
    "gb_model.fit(X_train, y_train)\n",
    "\n",
    "# Predict\n",
    "y_pred_gb = gb_model.predict(X_test)\n",
    "\n",
    "# Evaluate\n",
    "print(\"Gradient Boosting\")\n",
    "print(\"Accuracy:\", accuracy_score(y_test, y_pred_gb))\n",
    "print(\"Classification Report:\\n\", classification_report(y_test, y_pred_gb))\n"
   ]
  },
  {
   "cell_type": "code",
   "execution_count": null,
   "id": "a1acb2db",
   "metadata": {},
   "outputs": [
    {
     "name": "stdout",
     "output_type": "stream",
     "text": [
      "0.8610321119916061\n"
     ]
    }
   ],
   "source": [
    "#f1 score\n",
    "f1=f1_score(y_pred_knn,y_test)\n",
    "print(f1)"
   ]
  },
  {
   "cell_type": "code",
   "execution_count": null,
   "id": "Nkwm5pJrihZe",
   "metadata": {
    "colab": {
     "base_uri": "https://localhost:8080/"
    },
    "id": "Nkwm5pJrihZe",
    "outputId": "f964decd-d5eb-468b-b055-6d16f4a25ebd"
   },
   "outputs": [
    {
     "name": "stdout",
     "output_type": "stream",
     "text": [
      "                    Model  Accuracy\n",
      "0  RandomForestClassifier  0.764791\n",
      "1                     KNN  0.798065\n",
      "2       Gradient Boosting  0.761380\n"
     ]
    }
   ],
   "source": [
    "# Collect results into a dictionary\n",
    "results = {\n",
    "    \"Model\": [\"RandomForestClassifier\",\"KNN\", \"Gradient Boosting\"],\n",
    "    \"Accuracy\": [\n",
    "        accuracy_score(y_test, y_pred_knn),\n",
    "        accuracy_score(y_test, y_pred_gb),\n",
    "        accuracy_score(y_test, y_pred)\n",
    "\n",
    "\n",
    "    ]\n",
    "}\n",
    "\n",
    "# Convert to a DataFrame\n",
    "results_df = pd.DataFrame(results)\n",
    "\n",
    "# Display results\n",
    "print(results_df)"
   ]
  },
  {
   "cell_type": "code",
   "execution_count": null,
   "id": "37SnplgIihW-",
   "metadata": {
    "colab": {
     "base_uri": "https://localhost:8080/"
    },
    "id": "37SnplgIihW-",
    "outputId": "7a8206c8-3548-4732-b9ea-51e3db3e12b0"
   },
   "outputs": [
    {
     "name": "stdout",
     "output_type": "stream",
     "text": [
      "Accuracy (Bernoulli Naive Bayes): 0.7978783063837742\n",
      "Classification Report (Bernoulli Naive Bayes):\n",
      "               precision    recall  f1-score   support\n",
      "\n",
      "       False       0.00      0.00      0.00      4325\n",
      "        True       0.80      1.00      0.89     17073\n",
      "\n",
      "    accuracy                           0.80     21398\n",
      "   macro avg       0.40      0.50      0.44     21398\n",
      "weighted avg       0.64      0.80      0.71     21398\n",
      "\n"
     ]
    },
    {
     "name": "stderr",
     "output_type": "stream",
     "text": [
      "c:\\Users\\user\\anaconda3\\Lib\\site-packages\\sklearn\\metrics\\_classification.py:1509: UndefinedMetricWarning: Precision is ill-defined and being set to 0.0 in labels with no predicted samples. Use `zero_division` parameter to control this behavior.\n",
      "  _warn_prf(average, modifier, f\"{metric.capitalize()} is\", len(result))\n",
      "c:\\Users\\user\\anaconda3\\Lib\\site-packages\\sklearn\\metrics\\_classification.py:1509: UndefinedMetricWarning: Precision is ill-defined and being set to 0.0 in labels with no predicted samples. Use `zero_division` parameter to control this behavior.\n",
      "  _warn_prf(average, modifier, f\"{metric.capitalize()} is\", len(result))\n",
      "c:\\Users\\user\\anaconda3\\Lib\\site-packages\\sklearn\\metrics\\_classification.py:1509: UndefinedMetricWarning: Precision is ill-defined and being set to 0.0 in labels with no predicted samples. Use `zero_division` parameter to control this behavior.\n",
      "  _warn_prf(average, modifier, f\"{metric.capitalize()} is\", len(result))\n"
     ]
    }
   ],
   "source": [
    "from sklearn.naive_bayes import BernoulliNB\n",
    "\n",
    "bnb_model = BernoulliNB()\n",
    "bnb_model.fit(X_train, y_train)\n",
    "y_pred_bnb = bnb_model.predict(X_test)\n",
    "\n",
    "print(\"Accuracy (Bernoulli Naive Bayes):\", accuracy_score(y_test, y_pred_bnb))\n",
    "print(\"Classification Report (Bernoulli Naive Bayes):\\n\", classification_report(y_test, y_pred_bnb))"
   ]
  },
  {
   "cell_type": "code",
   "execution_count": null,
   "id": "32ryXIoIihUb",
   "metadata": {
    "colab": {
     "base_uri": "https://localhost:8080/"
    },
    "id": "32ryXIoIihUb",
    "outputId": "61a88a87-61fe-4e89-96c7-67c32ea04499"
   },
   "outputs": [
    {
     "name": "stdout",
     "output_type": "stream",
     "text": [
      "Accuracy (Bernoulli Naive Bayes): 0.7978783063837742\n",
      "Classification Report (Bernoulli Naive Bayes):\n",
      "               precision    recall  f1-score   support\n",
      "\n",
      "       False       0.00      0.00      0.00      4325\n",
      "        True       0.80      1.00      0.89     17073\n",
      "\n",
      "    accuracy                           0.80     21398\n",
      "   macro avg       0.40      0.50      0.44     21398\n",
      "weighted avg       0.64      0.80      0.71     21398\n",
      "\n"
     ]
    },
    {
     "name": "stderr",
     "output_type": "stream",
     "text": [
      "c:\\Users\\user\\anaconda3\\Lib\\site-packages\\sklearn\\metrics\\_classification.py:1509: UndefinedMetricWarning: Precision is ill-defined and being set to 0.0 in labels with no predicted samples. Use `zero_division` parameter to control this behavior.\n",
      "  _warn_prf(average, modifier, f\"{metric.capitalize()} is\", len(result))\n",
      "c:\\Users\\user\\anaconda3\\Lib\\site-packages\\sklearn\\metrics\\_classification.py:1509: UndefinedMetricWarning: Precision is ill-defined and being set to 0.0 in labels with no predicted samples. Use `zero_division` parameter to control this behavior.\n",
      "  _warn_prf(average, modifier, f\"{metric.capitalize()} is\", len(result))\n",
      "c:\\Users\\user\\anaconda3\\Lib\\site-packages\\sklearn\\metrics\\_classification.py:1509: UndefinedMetricWarning: Precision is ill-defined and being set to 0.0 in labels with no predicted samples. Use `zero_division` parameter to control this behavior.\n",
      "  _warn_prf(average, modifier, f\"{metric.capitalize()} is\", len(result))\n"
     ]
    }
   ],
   "source": [
    "from sklearn.naive_bayes import BernoulliNB\n",
    "\n",
    "bnb_model = BernoulliNB()\n",
    "bnb_model.fit(X_train, y_train)\n",
    "y_pred_bnb = bnb_model.predict(X_test)\n",
    "\n",
    "print(\"Accuracy (Bernoulli Naive Bayes):\", accuracy_score(y_test, y_pred_bnb))\n",
    "print(\"Classification Report (Bernoulli Naive Bayes):\\n\", classification_report(y_test, y_pred_bnb))"
   ]
  },
  {
   "cell_type": "code",
   "execution_count": null,
   "id": "_ewXD17-ihR7",
   "metadata": {
    "id": "_ewXD17-ihR7"
   },
   "outputs": [],
   "source": [
    "# Collect results into a dictionary\n",
    "results = {\n",
    "    \"Model\": [\"RandomForestClassifier\",\"KNN\", \"Gradient Boosting\", \"BernoulliNB\"],\n",
    "    \"Accuracy\": [\n",
    "        accuracy_score(y_test, y_pred_knn),\n",
    "        accuracy_score(y_test, y_pred_gb),\n",
    "        accuracy_score(y_test, y_pred),\n",
    "        accuracy_score(y_test, y_pred_bnb)\n",
    "\n",
    "\n",
    "    ]\n",
    "}\n"
   ]
  },
  {
   "cell_type": "code",
   "execution_count": null,
   "id": "W4Y2GsvKihO8",
   "metadata": {
    "colab": {
     "base_uri": "https://localhost:8080/"
    },
    "id": "W4Y2GsvKihO8",
    "outputId": "2078fba5-524c-4b3d-ab3c-0464beb1929b"
   },
   "outputs": [
    {
     "name": "stdout",
     "output_type": "stream",
     "text": [
      "                    Model  Accuracy\n",
      "0  RandomForestClassifier  0.764791\n",
      "1                     KNN  0.798065\n",
      "2       Gradient Boosting  0.761380\n",
      "3             BernoulliNB  0.797878\n"
     ]
    }
   ],
   "source": [
    "\n",
    "# Convert to a DataFrame\n",
    "results_df = pd.DataFrame(results)\n",
    "\n",
    "# Display results\n",
    "print(results_df)\n"
   ]
  },
  {
   "cell_type": "code",
   "execution_count": null,
   "id": "pyO0xUiUihKK",
   "metadata": {
    "colab": {
     "base_uri": "https://localhost:8080/"
    },
    "id": "pyO0xUiUihKK",
    "outputId": "bb4a347e-4a59-45d0-c6b9-0b09f94802e8"
   },
   "outputs": [
    {
     "name": "stdout",
     "output_type": "stream",
     "text": [
      "0.8610321119916061\n"
     ]
    }
   ],
   "source": [
    "#f1 score\n",
    "f1=f1_score(y_pred_knn,y_test)\n",
    "print(f1)"
   ]
  },
  {
   "cell_type": "code",
   "execution_count": null,
   "id": "7c22022b",
   "metadata": {},
   "outputs": [],
   "source": []
  },
  {
   "cell_type": "code",
   "execution_count": null,
   "id": "GwNLLVLPihFZ",
   "metadata": {
    "id": "GwNLLVLPihFZ"
   },
   "outputs": [],
   "source": [
    "import joblib\n",
    "## Save as a pickle file\n",
    "filename= 'final_model.pkl'\n",
    "joblib.dump(knn_model,open(filename, 'wb'))"
   ]
  },
  {
   "cell_type": "code",
   "execution_count": null,
   "id": "2QGRkyfaihC9",
   "metadata": {
    "id": "2QGRkyfaihC9"
   },
   "outputs": [
    {
     "name": "stdout",
     "output_type": "stream",
     "text": [
      "Note: you may need to restart the kernel to use updated packages.\n"
     ]
    }
   ],
   "source": [
    "pip freeze > requirements.txt"
   ]
  },
  {
   "cell_type": "code",
   "execution_count": null,
   "id": "Ia_AX6ogihAc",
   "metadata": {
    "id": "Ia_AX6ogihAc"
   },
   "outputs": [
    {
     "name": "stdout",
     "output_type": "stream",
     "text": [
      "Processing c:\\b\\abs_7e0qjcige6\\croot\\aext-assistant_1717062202219\\work (from -r requirements.txt (line 1))\n",
      "Note: you may need to restart the kernel to use updated packages.\n"
     ]
    },
    {
     "name": "stderr",
     "output_type": "stream",
     "text": [
      "ERROR: Could not install packages due to an OSError: [Errno 2] No such file or directory: 'C:\\\\b\\\\abs_7e0qjcige6\\\\croot\\\\aext-assistant_1717062202219\\\\work'\n",
      "\n"
     ]
    }
   ],
   "source": [
    "pip install  -r requirements.txt"
   ]
  },
  {
   "cell_type": "code",
   "execution_count": null,
   "id": "B8EV9rEPig-T",
   "metadata": {
    "id": "B8EV9rEPig-T"
   },
   "outputs": [],
   "source": []
  },
  {
   "cell_type": "code",
   "execution_count": null,
   "id": "qaaK1NIZig76",
   "metadata": {
    "id": "qaaK1NIZig76"
   },
   "outputs": [],
   "source": []
  },
  {
   "cell_type": "code",
   "execution_count": null,
   "id": "mpPe4r3wig51",
   "metadata": {
    "id": "mpPe4r3wig51"
   },
   "outputs": [],
   "source": []
  },
  {
   "cell_type": "code",
   "execution_count": null,
   "id": "q_b3GZI-ig3S",
   "metadata": {
    "id": "q_b3GZI-ig3S"
   },
   "outputs": [],
   "source": []
  },
  {
   "cell_type": "code",
   "execution_count": null,
   "id": "WWd257-pig0-",
   "metadata": {
    "id": "WWd257-pig0-"
   },
   "outputs": [],
   "source": []
  },
  {
   "cell_type": "code",
   "execution_count": null,
   "id": "9hUIMrEeigyz",
   "metadata": {
    "id": "9hUIMrEeigyz"
   },
   "outputs": [],
   "source": []
  },
  {
   "cell_type": "code",
   "execution_count": null,
   "id": "D4_kW12kigwQ",
   "metadata": {
    "id": "D4_kW12kigwQ"
   },
   "outputs": [],
   "source": []
  },
  {
   "cell_type": "code",
   "execution_count": null,
   "id": "L2Yi29Hzigt3",
   "metadata": {
    "id": "L2Yi29Hzigt3"
   },
   "outputs": [],
   "source": []
  }
 ],
 "metadata": {
  "colab": {
   "provenance": []
  },
  "kernelspec": {
   "display_name": "base",
   "language": "python",
   "name": "python3"
  },
  "language_info": {
   "codemirror_mode": {
    "name": "ipython",
    "version": 3
   },
   "file_extension": ".py",
   "mimetype": "text/x-python",
   "name": "python",
   "nbconvert_exporter": "python",
   "pygments_lexer": "ipython3",
   "version": "3.12.4"
  }
 },
 "nbformat": 4,
 "nbformat_minor": 5
}
